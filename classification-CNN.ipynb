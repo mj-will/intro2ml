{
 "cells": [
  {
   "cell_type": "markdown",
   "metadata": {},
   "source": [
    "# Classification - CNN"
   ]
  },
  {
   "cell_type": "code",
   "execution_count": 5,
   "metadata": {},
   "outputs": [],
   "source": [
    "import tensorflow.keras as keras\n",
    "from tensorflow.keras.datasets import mnist\n",
    "from tensorflow.keras.models import Sequential\n",
    "from tensorflow.keras.layers import Dense, Dropout, Conv2D, MaxPooling2D, Flatten\n",
    "from tensorflow.keras.optimizers import SGD\n",
    "from tensorflow.keras import backend as K\n",
    "\n",
    "import matplotlib.pyplot as plt"
   ]
  },
  {
   "cell_type": "markdown",
   "metadata": {},
   "source": [
    "## Dataset\n",
    "\n",
    "MNIST is a handwrriten digit database with a training set of 60,000 examples and a test se of 10,000 examples. The images are all 28x28 and greyscale.\n",
    "\n",
    "It is available [here](http://yann.lecun.com/exdb/mnist/), but is included in Keras and will automatically download."
   ]
  },
  {
   "cell_type": "code",
   "execution_count": 6,
   "metadata": {
    "scrolled": false
   },
   "outputs": [],
   "source": [
    "# load data\n",
    "(x_train, y_train), (x_test, y_test) = mnist.load_data()"
   ]
  },
  {
   "cell_type": "markdown",
   "metadata": {},
   "source": [
    "Here, the 'x' arrays are the images and the 'y' arrays are the labels"
   ]
  },
  {
   "cell_type": "code",
   "execution_count": 7,
   "metadata": {
    "scrolled": true
   },
   "outputs": [
    {
     "data": {
      "image/png": "[encoded data removed]",
      "text/plain": [
       "<Figure size 432x288 with 9 Axes>"
      ]
     },
     "metadata": {},
     "output_type": "display_data"
    }
   ],
   "source": [
    "fig, axs = plt.subplots(3,3)\n",
    "axs = axs.ravel()\n",
    "for i in range(len(axs)):\n",
    "    axs[i].imshow(x_train[i].reshape(28,28), cmap='gray')\n",
    "    axs[i].set_xticks([])\n",
    "    axs[i].set_yticks([])"
   ]
  },
  {
   "cell_type": "markdown",
   "metadata": {},
   "source": [
    "### General parameters\n",
    "\n",
    "We need to define some general parameters for networks we're going to use"
   ]
  },
  {
   "cell_type": "code",
   "execution_count": 8,
   "metadata": {},
   "outputs": [],
   "source": [
    "batch_size = 128    # number of images passed each iteration\n",
    "num_classes = 10    # digits 0 to 9\n",
    "epochs = 20         # number of full passes of the dataset"
   ]
  },
  {
   "cell_type": "markdown",
   "metadata": {},
   "source": [
    "## CNN\n",
    "\n",
    "This example uses a convolutiona neural net, in this case a 2D CNN"
   ]
  },
  {
   "cell_type": "markdown",
   "metadata": {},
   "source": [
    "For a CNN the data needs to be parsed as 2D array, rather than a 1D array. \n",
    "\n",
    "So, the data is reshaped according to the number of samples (60,000 or 10,000) and the size of the image 28x28.\n",
    "\n",
    "The data is then normalized (0,255) to (0,1)"
   ]
  },
  {
   "cell_type": "code",
   "execution_count": 9,
   "metadata": {},
   "outputs": [],
   "source": [
    "# input image dimensions\n",
    "img_rows, img_cols = 28, 28"
   ]
  },
  {
   "cell_type": "code",
   "execution_count": 10,
   "metadata": {},
   "outputs": [],
   "source": [
    "# reshape data\n",
    "if K.image_data_format() == 'channels_first':\n",
    "    x_train = x_train.reshape(x_train.shape[0], 1, img_rows, img_cols)\n",
    "    x_test = x_test.reshape(x_test.shape[0], 1, img_rows, img_cols)\n",
    "    input_shape = (1, img_rows, img_cols)\n",
    "else:\n",
    "    x_train = x_train.reshape(x_train.shape[0], img_rows, img_cols, 1)\n",
    "    x_test = x_test.reshape(x_test.shape[0], img_rows, img_cols, 1)\n",
    "    input_shape = (img_rows, img_cols, 1)"
   ]
  },
  {
   "cell_type": "code",
   "execution_count": 11,
   "metadata": {
    "scrolled": false
   },
   "outputs": [
    {
     "name": "stdout",
     "output_type": "stream",
     "text": [
      "x_train shape: (60000, 28, 28, 1)\n",
      "60000 train samples\n",
      "10000 test samples\n"
     ]
    }
   ],
   "source": [
    "x_train = x_train.astype('float32')\n",
    "x_test = x_test.astype('float32')\n",
    "x_train /= 255\n",
    "x_test /= 255\n",
    "print('x_train shape:', x_train.shape)\n",
    "print(x_train.shape[0], 'train samples')\n",
    "print(x_test.shape[0], 'test samples')"
   ]
  },
  {
   "cell_type": "markdown",
   "metadata": {},
   "source": [
    "As is the content of the labels vectors looks like this:\n",
    "```\n",
    "array([7, 2, 1, ..., 4, 5, 6], dtype=uint8)\n",
    "```\n",
    "The NN expects them labels as binary class matrix instead"
   ]
  },
  {
   "cell_type": "code",
   "execution_count": 12,
   "metadata": {},
   "outputs": [],
   "source": [
    "# convert class vectors to binary class matrices\n",
    "y_train = keras.utils.to_categorical(y_train, num_classes)\n",
    "y_test = keras.utils.to_categorical(y_test, num_classes)"
   ]
  },
  {
   "cell_type": "markdown",
   "metadata": {},
   "source": [
    "Now the label for each image looks like this:\n",
    "```\n",
    "array([0., 0., 0., 0., 0., 0., 0., 1., 0., 0.], dtype=float32)\n",
    "```\n"
   ]
  },
  {
   "cell_type": "markdown",
   "metadata": {},
   "source": [
    "### The Model"
   ]
  },
  {
   "cell_type": "code",
   "execution_count": 13,
   "metadata": {},
   "outputs": [],
   "source": [
    "model = Sequential()\n",
    "\n",
    "model.add(Conv2D(32, kernel_size=(3, 3),\n",
    "                 activation='relu',\n",
    "                 input_shape=input_shape))\n",
    "model.add(Conv2D(64, (3, 3), activation='relu'))\n",
    "\n",
    "model.add(MaxPooling2D(pool_size=(2, 2)))\n",
    "model.add(Dropout(0.25))\n",
    "# input to dense layer needs to be 1D array\n",
    "model.add(Flatten())\n",
    "model.add(Dense(128, activation='relu'))\n",
    "model.add(Dropout(0.5))\n",
    "model.add(Dense(num_classes, activation='softmax'))"
   ]
  },
  {
   "cell_type": "code",
   "execution_count": 10,
   "metadata": {},
   "outputs": [],
   "source": [
    "# compile the model\n",
    "model.compile(loss='categorical_crossentropy',\n",
    "              optimizer=SGD(lr = 0.01, momentum = 0.9, nesterov = True),\n",
    "metrics=['accuracy'])"
   ]
  },
  {
   "cell_type": "markdown",
   "metadata": {},
   "source": [
    "### The Training\n",
    "This will be slow to run (~1-2 minutes per epoch) on a CPU"
   ]
  },
  {
   "cell_type": "code",
   "execution_count": 11,
   "metadata": {
    "scrolled": true
   },
   "outputs": [
    {
     "name": "stdout",
     "output_type": "stream",
     "text": [
      "Train on 60000 samples, validate on 10000 samples\n",
      "Epoch 1/20\n",
      "60000/60000 [==============================] - 101s 2ms/step - loss: 0.5032 - acc: 0.8428 - val_loss: 0.1463 - val_acc: 0.9560\n",
      "Epoch 2/20\n",
      "60000/60000 [==============================] - 132s 2ms/step - loss: 0.1959 - acc: 0.9425 - val_loss: 0.0771 - val_acc: 0.9767\n",
      "Epoch 3/20\n",
      "60000/60000 [==============================] - 104s 2ms/step - loss: 0.1278 - acc: 0.9618 - val_loss: 0.0530 - val_acc: 0.9826\n",
      "Epoch 4/20\n",
      "60000/60000 [==============================] - 88s 1ms/step - loss: 0.1015 - acc: 0.9695 - val_loss: 0.0445 - val_acc: 0.9854\n",
      "Epoch 5/20\n",
      "60000/60000 [==============================] - 88s 1ms/step - loss: 0.0829 - acc: 0.9748 - val_loss: 0.0428 - val_acc: 0.9849\n",
      "Epoch 6/20\n",
      "60000/60000 [==============================] - 91s 2ms/step - loss: 0.0750 - acc: 0.9774 - val_loss: 0.0381 - val_acc: 0.9885\n",
      "Epoch 7/20\n",
      "60000/60000 [==============================] - 84s 1ms/step - loss: 0.0653 - acc: 0.9796 - val_loss: 0.0352 - val_acc: 0.9884\n",
      "Epoch 8/20\n",
      "60000/60000 [==============================] - 90s 2ms/step - loss: 0.0612 - acc: 0.9815 - val_loss: 0.0334 - val_acc: 0.9891\n",
      "Epoch 9/20\n",
      "60000/60000 [==============================] - 85s 1ms/step - loss: 0.0539 - acc: 0.9837 - val_loss: 0.0282 - val_acc: 0.9898\n",
      "Epoch 10/20\n",
      "60000/60000 [==============================] - 91s 2ms/step - loss: 0.0493 - acc: 0.9851 - val_loss: 0.0289 - val_acc: 0.9905\n",
      "Epoch 11/20\n",
      "60000/60000 [==============================] - 85s 1ms/step - loss: 0.0476 - acc: 0.9849 - val_loss: 0.0279 - val_acc: 0.9896\n",
      "Epoch 12/20\n",
      "60000/60000 [==============================] - 89s 1ms/step - loss: 0.0425 - acc: 0.9864 - val_loss: 0.0295 - val_acc: 0.9905\n",
      "Epoch 13/20\n",
      "60000/60000 [==============================] - 85s 1ms/step - loss: 0.0418 - acc: 0.9867 - val_loss: 0.0285 - val_acc: 0.9910\n",
      "Epoch 14/20\n",
      "60000/60000 [==============================] - 90s 2ms/step - loss: 0.0380 - acc: 0.9881 - val_loss: 0.0300 - val_acc: 0.9910\n",
      "Epoch 15/20\n",
      "60000/60000 [==============================] - 88s 1ms/step - loss: 0.0363 - acc: 0.9879 - val_loss: 0.0268 - val_acc: 0.9917\n",
      "Epoch 16/20\n",
      "60000/60000 [==============================] - 88s 1ms/step - loss: 0.0347 - acc: 0.9888 - val_loss: 0.0265 - val_acc: 0.9916\n",
      "Epoch 17/20\n",
      "60000/60000 [==============================] - 91s 2ms/step - loss: 0.0321 - acc: 0.9896 - val_loss: 0.0256 - val_acc: 0.9920\n",
      "Epoch 18/20\n",
      "60000/60000 [==============================] - 86s 1ms/step - loss: 0.0319 - acc: 0.9895 - val_loss: 0.0254 - val_acc: 0.9921\n",
      "Epoch 19/20\n",
      "60000/60000 [==============================] - 91s 2ms/step - loss: 0.0312 - acc: 0.9899 - val_loss: 0.0261 - val_acc: 0.9915\n",
      "Epoch 20/20\n",
      "60000/60000 [==============================] - 86s 1ms/step - loss: 0.0290 - acc: 0.9904 - val_loss: 0.0252 - val_acc: 0.9933\n",
      "Test loss: 0.025172472310285868\n",
      "Test accuracy: 0.9933\n"
     ]
    }
   ],
   "source": [
    "history = model.fit(x_train, y_train,\n",
    "                    batch_size=batch_size,\n",
    "                    epochs=epochs,\n",
    "                    verbose=1,\n",
    "                    validation_data=(x_test, y_test))\n",
    "score = model.evaluate(x_test, y_test, verbose=0)\n",
    "print('Test loss:', score[0])\n",
    "print('Test accuracy:', score[1])"
   ]
  }
 ],
 "metadata": {
  "kernelspec": {
   "display_name": "Python (tf)",
   "language": "python",
   "name": "tf"
  },
  "language_info": {
   "codemirror_mode": {
    "name": "ipython",
    "version": 3
   },
   "file_extension": ".py",
   "mimetype": "text/x-python",
   "name": "python",
   "nbconvert_exporter": "python",
   "pygments_lexer": "ipython3",
   "version": "3.7.5"
  }
 },
 "nbformat": 4,
 "nbformat_minor": 2
}
