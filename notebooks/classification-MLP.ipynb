{
 "cells": [
  {
   "cell_type": "markdown",
   "metadata": {},
   "source": [
    "# 1. Classification - Multilayer Perception\n",
    "\n",
    "Multilayer perceptrons (MLP) are one of the simplest neural networks that can be applied to a problem. They use only the core building blocks of neural networks: simple neurons.\n",
    "\n",
    "This notebook outlines how to setup a simple MLP (also known as fully-connected networks) and apply it to the MNIST dataset which is series of handwritten digits from zero to nine.\n",
    "\n",
    "[![Open In Colab](https://colab.research.google.com/assets/colab-badge.svg)](https://colab.research.google.com/github/mj-will/intro2ml/blob/master/classification-MLP.ipynb)"
   ]
  },
  {
   "cell_type": "markdown",
   "metadata": {},
   "source": [
    "## Imports\n",
    "\n",
    "[Keras](https://keras.io/) is now part of [Tensorflow](https://www.tensorflow.org) and all imports with include tensorflow. There are lots of examples of how to use different elements of Keras on its [tensorflow page](https://www.tensorflow.org/guide/keras)\n",
    "\n",
    "Below are the imports that are needed for this example, each will be explained when used, so don't worry about them right now."
   ]
  },
  {
   "cell_type": "code",
   "execution_count": 1,
   "metadata": {},
   "outputs": [],
   "source": [
    "import tensorflow.keras as keras\n",
    "from tensorflow.keras.datasets import mnist\n",
    "from tensorflow.keras.models import Sequential\n",
    "from tensorflow.keras.layers import Dense\n",
    "from tensorflow.keras.optimizers import Adam\n",
    "\n",
    "import matplotlib.pyplot as plt"
   ]
  },
  {
   "cell_type": "markdown",
   "metadata": {},
   "source": [
    "## Dataset\n",
    "\n",
    "Neural networks rely on data to learn and in this example we'll be looking at the MNIST dataset.\n",
    "\n",
    "MNIST is a handwritten digit database with a training set of 60,000 examples and a test set of 10,000 examples. The images are all 28x28 and greyscale. The testing data will be used to validate the network's peformance once it has been trained.\n",
    "\n",
    "It is available [here](http://yann.lecun.com/exdb/mnist/), but is included in Keras and will automatically download."
   ]
  },
  {
   "cell_type": "code",
   "execution_count": 2,
   "metadata": {
    "scrolled": false
   },
   "outputs": [],
   "source": [
    "# load data using the imp\n",
    "(x_train, y_train), (x_test, y_test) = mnist.load_data()"
   ]
  },
  {
   "cell_type": "markdown",
   "metadata": {},
   "source": [
    "It's common practice to refer to the input data as \"x\" and the output as \"y\" as we'll be following that convention here.\n",
    "\n",
    "Let's have a look at some of the data."
   ]
  },
  {
   "cell_type": "code",
   "execution_count": 3,
   "metadata": {
    "scrolled": true
   },
   "outputs": [
    {
     "data": {
      "image/png": "[encoded data removed]",
      "text/plain": [
       "<Figure size 432x288 with 9 Axes>"
      ]
     },
     "metadata": {},
     "output_type": "display_data"
    }
   ],
   "source": [
    "fig, axs = plt.subplots(3,3)\n",
    "axs = axs.ravel()\n",
    "for i in range(len(axs)):\n",
    "    axs[i].imshow(x_train[i].reshape(28,28), cmap='gray')\n",
    "    axs[i].set_xticks([])\n",
    "    axs[i].set_yticks([])"
   ]
  },
  {
   "cell_type": "markdown",
   "metadata": {},
   "source": [
    "Here, the 'x' arrays are the images and the 'y' arrays are the labels"
   ]
  },
  {
   "cell_type": "markdown",
   "metadata": {},
   "source": [
    "### General parameters\n",
    "\n",
    "We need to define some general parameters for networks we're going to use:\n",
    "* Batchsize: refers to the number of images/samples passed to the network in a single instance of training\n",
    "* Number of classes: refers to the number of possible classes in the data, in this case 10 since there a 10 different digits (0-9)\n",
    "* Epochs: refers to the number of times the network will train on the complete dataset"
   ]
  },
  {
   "cell_type": "code",
   "execution_count": 4,
   "metadata": {},
   "outputs": [],
   "source": [
    "batch_size = 128    # number of images passed each iteration of training\n",
    "num_classes = 10    # digits 0 to 9, so 10 classes\n",
    "epochs = 20         # number of full passes of the dataset"
   ]
  },
  {
   "cell_type": "markdown",
   "metadata": {},
   "source": [
    "## MLP\n",
    "\n",
    "This example uses a simple deep neural net (more than 1 layer)"
   ]
  },
  {
   "cell_type": "markdown",
   "metadata": {},
   "source": [
    "For an MLP the data needs to be parsed as 1D array, rather than a 2D image. \n",
    "\n",
    "So, the data is reshaped according to the number of samples (60,000 or 10,000) and the size of the image 784 (28x28).\n",
    "\n",
    "The data is then normalized (0,255) to (0,1)nsince neural networks will learn quicker if the data is normalised. This is not to say it's impossible to train a network without normalised data."
   ]
  },
  {
   "cell_type": "code",
   "execution_count": 5,
   "metadata": {
    "scrolled": false
   },
   "outputs": [
    {
     "name": "stdout",
     "output_type": "stream",
     "text": [
      "60000 training samples\n",
      "10000 test samples\n"
     ]
    }
   ],
   "source": [
    "# reshape data\n",
    "x_train = x_train.reshape(60000, 784)\n",
    "x_test = x_test.reshape(10000, 784)\n",
    "x_train = x_train.astype('float32')\n",
    "x_test = x_test.astype('float32')\n",
    "# normalize data\n",
    "x_train /= 255\n",
    "x_test /= 255\n",
    "print(x_train.shape[0], 'training samples')\n",
    "print(x_test.shape[0], 'test samples')"
   ]
  },
  {
   "cell_type": "markdown",
   "metadata": {},
   "source": [
    "As is the content of the labels vectors looks something like this:\n",
    "```\n",
    "array([7, 2, 1, ..., 4, 5, 6], dtype=uint8)\n",
    "```\n",
    "The NN expects them labels as binary class matrix instead, i.e. a matrix with a 1 in the position that corresponds to the given class. This is clearer with an example."
   ]
  },
  {
   "cell_type": "code",
   "execution_count": 6,
   "metadata": {},
   "outputs": [],
   "source": [
    "# convert class vectors to binary class matrices\n",
    "# use built-in keras utilties to do this\n",
    "y_train = keras.utils.to_categorical(y_train, num_classes)\n",
    "y_test = keras.utils.to_categorical(y_test, num_classes)"
   ]
  },
  {
   "cell_type": "markdown",
   "metadata": {},
   "source": [
    "Now the label for each image looks like this:\n",
    "```\n",
    "array([0., 0., 0., 0., 0., 0., 0., 1., 0., 0.], dtype=float32)\n",
    "```\n",
    "Notice that in the previous array the first digit was a 7. In the array that now corresponds to this values the 8th position is 1, corresponding to the class \"7\" since we're including 0."
   ]
  },
  {
   "cell_type": "markdown",
   "metadata": {},
   "source": [
    "### The Model\n",
    "\n",
    "We now need to construct the neural network that we're going to training to classify the digits.\n",
    "\n",
    "We start by defining the type of keras model. In this case we're using ```Sequential```. When using this type of model any layers we add are assumed to directly follow from the previous one. The other type is ```Model``` which you can read about [here](https://keras.io/models/model/).\n",
    "\n",
    "We then add the input layer. In this case we're going to use a ```Dense``` layer, i.e. a simple fully connected layer. We need to specify the number of neurons (or nodes), the [activation function](https://en.wikipedia.org/wiki/Activation_function) and the shape of the input with keyword argument ```input_shape```.\n",
    "\n",
    "We then add another dense layer but this time we don't need to specify the input shape.\n",
    "\n",
    "Finally we the output layer. Since this is a classifcation task we want the network to predict one of the ten classes, so we use ten neurons. As for the activation function, we use a [softmax function](https://en.wikipedia.org/wiki/Softmax_function) since this ensures the sum of all the output is one, so they can be thought of as a sort of probability."
   ]
  },
  {
   "cell_type": "code",
   "execution_count": 7,
   "metadata": {},
   "outputs": [
    {
     "name": "stdout",
     "output_type": "stream",
     "text": [
      "Model: \"sequential\"\n",
      "_________________________________________________________________\n",
      "Layer (type)                 Output Shape              Param #   \n",
      "=================================================================\n",
      "dense (Dense)                (None, 512)               401920    \n",
      "_________________________________________________________________\n",
      "dense_1 (Dense)              (None, 512)               262656    \n",
      "_________________________________________________________________\n",
      "dense_2 (Dense)              (None, 10)                5130      \n",
      "=================================================================\n",
      "Total params: 669,706\n",
      "Trainable params: 669,706\n",
      "Non-trainable params: 0\n",
      "_________________________________________________________________\n"
     ]
    }
   ],
   "source": [
    "model = Sequential()    # define the type of keras model\n",
    "# add first layer with relu activation\n",
    "model.add(Dense(512, activation='relu', input_shape=(784,)))\n",
    "# add another layer\n",
    "model.add(Dense(512, activation='relu'))\n",
    "# add the output layer with softmax actiavtion for classication\n",
    "model.add(Dense(num_classes, activation='softmax'))\n",
    "# print a summary\n",
    "model.summary()"
   ]
  },
  {
   "cell_type": "markdown",
   "metadata": {},
   "source": [
    "The model then needs to be compiled. It's at this stage that we specify the loss function, optimiser and metrics.\n",
    "\n",
    "#### Loss function\n",
    "\n",
    "$\\text{MSE} = \\frac{1}{N} (\\bar{y} - y)^{2}$\n",
    "\n",
    "\n",
    "#### Optimiser\n",
    "\n",
    "#### Metrics"
   ]
  },
  {
   "cell_type": "code",
   "execution_count": 8,
   "metadata": {},
   "outputs": [],
   "source": [
    "# compile the model\n",
    "model.compile(loss='categorical_crossentropy',\n",
    "              optimizer=Adam(),\n",
    "              metrics=['accuracy'])"
   ]
  },
  {
   "cell_type": "markdown",
   "metadata": {},
   "source": [
    "### The Training"
   ]
  },
  {
   "cell_type": "code",
   "execution_count": 9,
   "metadata": {
    "scrolled": true
   },
   "outputs": [
    {
     "name": "stdout",
     "output_type": "stream",
     "text": [
      "Train on 60000 samples, validate on 10000 samples\n",
      "Epoch 1/20\n",
      "60000/60000 [==============================] - 9s 156us/sample - loss: 0.2180 - accuracy: 0.9348 - val_loss: 0.1008 - val_accuracy: 0.9678\n",
      "Epoch 2/20\n",
      "60000/60000 [==============================] - 8s 136us/sample - loss: 0.0795 - accuracy: 0.9756 - val_loss: 0.0849 - val_accuracy: 0.9734\n",
      "Epoch 3/20\n",
      "60000/60000 [==============================] - 8s 134us/sample - loss: 0.0492 - accuracy: 0.9840 - val_loss: 0.0724 - val_accuracy: 0.9783\n",
      "Epoch 4/20\n",
      "60000/60000 [==============================] - 8s 136us/sample - loss: 0.0350 - accuracy: 0.9890 - val_loss: 0.0776 - val_accuracy: 0.9784\n",
      "Epoch 5/20\n",
      "60000/60000 [==============================] - 9s 150us/sample - loss: 0.0269 - accuracy: 0.9910 - val_loss: 0.0607 - val_accuracy: 0.9839\n",
      "Epoch 6/20\n",
      "60000/60000 [==============================] - 7s 125us/sample - loss: 0.0206 - accuracy: 0.9928 - val_loss: 0.0719 - val_accuracy: 0.9806\n",
      "Epoch 7/20\n",
      "60000/60000 [==============================] - 8s 132us/sample - loss: 0.0189 - accuracy: 0.9936 - val_loss: 0.0710 - val_accuracy: 0.9812\n",
      "Epoch 8/20\n",
      "60000/60000 [==============================] - 7s 125us/sample - loss: 0.0172 - accuracy: 0.9941 - val_loss: 0.0792 - val_accuracy: 0.9803\n",
      "Epoch 9/20\n",
      "60000/60000 [==============================] - 8s 128us/sample - loss: 0.0119 - accuracy: 0.9962 - val_loss: 0.0808 - val_accuracy: 0.9800\n",
      "Epoch 10/20\n",
      "60000/60000 [==============================] - 8s 126us/sample - loss: 0.0102 - accuracy: 0.9965 - val_loss: 0.0836 - val_accuracy: 0.9815\n",
      "Epoch 11/20\n",
      "60000/60000 [==============================] - 7s 117us/sample - loss: 0.0141 - accuracy: 0.9952 - val_loss: 0.0882 - val_accuracy: 0.9801\n",
      "Epoch 12/20\n",
      "60000/60000 [==============================] - 8s 134us/sample - loss: 0.0139 - accuracy: 0.9955 - val_loss: 0.0764 - val_accuracy: 0.9828\n",
      "Epoch 13/20\n",
      "60000/60000 [==============================] - 8s 138us/sample - loss: 0.0093 - accuracy: 0.9968 - val_loss: 0.0824 - val_accuracy: 0.9819\n",
      "Epoch 14/20\n",
      "60000/60000 [==============================] - 8s 132us/sample - loss: 0.0090 - accuracy: 0.9971 - val_loss: 0.0911 - val_accuracy: 0.9817\n",
      "Epoch 15/20\n",
      "60000/60000 [==============================] - 8s 126us/sample - loss: 0.0119 - accuracy: 0.9961 - val_loss: 0.0946 - val_accuracy: 0.9800\n",
      "Epoch 16/20\n",
      "60000/60000 [==============================] - 8s 127us/sample - loss: 0.0071 - accuracy: 0.9976 - val_loss: 0.0997 - val_accuracy: 0.9824\n",
      "Epoch 17/20\n",
      "60000/60000 [==============================] - 8s 131us/sample - loss: 0.0100 - accuracy: 0.9968 - val_loss: 0.1009 - val_accuracy: 0.9798\n",
      "Epoch 18/20\n",
      "60000/60000 [==============================] - 8s 139us/sample - loss: 0.0043 - accuracy: 0.9987 - val_loss: 0.0960 - val_accuracy: 0.9821\n",
      "Epoch 19/20\n",
      "60000/60000 [==============================] - 8s 129us/sample - loss: 0.0071 - accuracy: 0.9978 - val_loss: 0.1062 - val_accuracy: 0.9805\n",
      "Epoch 20/20\n",
      "60000/60000 [==============================] - 7s 125us/sample - loss: 0.0103 - accuracy: 0.9968 - val_loss: 0.0929 - val_accuracy: 0.9829\n",
      "Test loss: 0.09291122905413111\n",
      "Test accuracy: 0.9829\n"
     ]
    }
   ],
   "source": [
    "history = model.fit(x_train, y_train,\n",
    "                    batch_size=batch_size,\n",
    "                    epochs=epochs,\n",
    "                    verbose=1,\n",
    "                    validation_data=(x_test, y_test))\n",
    "score = model.evaluate(x_test, y_test, verbose=0)\n",
    "print('Test loss:', score[0])\n",
    "print('Test accuracy:', score[1])"
   ]
  }
 ],
 "metadata": {
  "kernelspec": {
   "display_name": "Python (tf)",
   "language": "python",
   "name": "tf"
  },
  "language_info": {
   "codemirror_mode": {
    "name": "ipython",
    "version": 3
   },
   "file_extension": ".py",
   "mimetype": "text/x-python",
   "name": "python",
   "nbconvert_exporter": "python",
   "pygments_lexer": "ipython3",
   "version": "3.7.5"
  }
 },
 "nbformat": 4,
 "nbformat_minor": 2
}
