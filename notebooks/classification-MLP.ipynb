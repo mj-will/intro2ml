{
 "cells": [
  {
   "cell_type": "markdown",
   "metadata": {},
   "source": [
    "# Classification - Multilayer Perception\n",
    "\n",
    "Multilayer perceptrons (MLP) are one of the simplest neural networks that can be applied to a problem. They use only the core building blocks of neural networks: simple neurons.\n",
    "\n",
    "This notebook outlines how to setup a simple MLP (also known as fully-connected networks) and apply it to the MNIST dataset which is series of handwritten digits from zero to nine.\n",
    "\n",
    "[![Open In Colab](https://colab.research.google.com/assets/colab-badge.svg)](https://colab.research.google.com/github/mj-will/intro2ml/blob/master/notebooks/classification-MLP.ipynb)"
   ]
  },
  {
   "cell_type": "markdown",
   "metadata": {},
   "source": [
    "## Imports\n",
    "\n",
    "[Keras](https://keras.io/) is now part of [Tensorflow](https://www.tensorflow.org) and all imports with include tensorflow. There are lots of examples of how to use different elements of Keras on its [tensorflow page](https://www.tensorflow.org/guide/keras)\n",
    "\n",
    "Below are the imports that are needed for this example, each will be explained when used, so don't worry about them right now."
   ]
  },
  {
   "cell_type": "code",
   "execution_count": 1,
   "metadata": {},
   "outputs": [],
   "source": [
    "import numpy as np\n",
    "import seaborn as sns\n",
    "import matplotlib.pyplot as plt\n",
    "\n",
    "sns.set(font_scale=1.2)\n",
    "\n",
    "import tensorflow.keras as keras\n",
    "from tensorflow.keras.datasets import mnist\n",
    "from tensorflow.keras.models import Sequential\n",
    "from tensorflow.keras.layers import Dense\n",
    "from tensorflow.keras.optimizers import Adam"
   ]
  },
  {
   "cell_type": "markdown",
   "metadata": {},
   "source": [
    "## Dataset\n",
    "\n",
    "Neural networks rely on data to learn and in this example we'll be looking at the MNIST dataset.\n",
    "\n",
    "MNIST is a handwritten digit database with a training set of 60,000 examples and a test set of 10,000 examples. The images are all 28x28 and greyscale. The testing data will be used to validate the network's peformance once it has been trained.\n",
    "\n",
    "It is available [here](http://yann.lecun.com/exdb/mnist/), but is included in Keras and will automatically download."
   ]
  },
  {
   "cell_type": "code",
   "execution_count": 2,
   "metadata": {
    "scrolled": false
   },
   "outputs": [],
   "source": [
    "# load data using the imp\n",
    "(x_train, y_train), (x_test, y_test) = mnist.load_data()"
   ]
  },
  {
   "cell_type": "markdown",
   "metadata": {},
   "source": [
    "It's common practice to refer to the input data as \"x\" and the output as \"y\" as we'll be following that convention here.\n",
    "\n",
    "Let's have a look at some of the data."
   ]
  },
  {
   "cell_type": "code",
   "execution_count": 3,
   "metadata": {
    "scrolled": true
   },
   "outputs": [
    {
     "data": {
      "image/png": "[encoded data removed]",
      "text/plain": [
       "<Figure size 432x288 with 9 Axes>"
      ]
     },
     "metadata": {},
     "output_type": "display_data"
    }
   ],
   "source": [
    "fig, axs = plt.subplots(3,3)\n",
    "axs = axs.ravel()\n",
    "for i in range(len(axs)):\n",
    "    axs[i].imshow(x_train[i].reshape(28,28), cmap='gray')\n",
    "    axs[i].set_xticks([])\n",
    "    axs[i].set_yticks([])\n",
    "plt.show()"
   ]
  },
  {
   "cell_type": "markdown",
   "metadata": {},
   "source": [
    "Here, the 'x' arrays are the images and the 'y' arrays are the labels"
   ]
  },
  {
   "cell_type": "markdown",
   "metadata": {},
   "source": [
    "### General parameters\n",
    "\n",
    "We need to define some general parameters for networks we're going to use:\n",
    "* Batchsize: refers to the number of images/samples passed to the network in a single instance of training\n",
    "* Number of classes: refers to the number of possible classes in the data, in this case 10 since there a 10 different digits (0-9)\n",
    "* Epochs: refers to the number of times the network will train on the complete dataset"
   ]
  },
  {
   "cell_type": "code",
   "execution_count": 4,
   "metadata": {},
   "outputs": [],
   "source": [
    "batch_size = 128    # number of images passed each iteration of training\n",
    "num_classes = 10    # digits 0 to 9, so 10 classes\n",
    "max_epochs = 20     # number of full passes of the dataset"
   ]
  },
  {
   "cell_type": "markdown",
   "metadata": {},
   "source": [
    "## MLP\n",
    "\n",
    "This example uses a simple deep neural net (more than 1 layer)"
   ]
  },
  {
   "cell_type": "markdown",
   "metadata": {},
   "source": [
    "For an MLP the data needs to be parsed as 1D array, rather than a 2D image. \n",
    "\n",
    "So, the data is reshaped according to the number of samples (60,000 or 10,000) and the size of the image 784 (28x28).\n",
    "\n",
    "The data is then normalized from $[0,255]$ to $[0,1]$ since neural networks will learn quicker if the data is normalised. This is not to say it's impossible to train a network without normalised data."
   ]
  },
  {
   "cell_type": "code",
   "execution_count": 5,
   "metadata": {
    "scrolled": false
   },
   "outputs": [
    {
     "name": "stdout",
     "output_type": "stream",
     "text": [
      "60000 training samples\n",
      "10000 test samples\n"
     ]
    }
   ],
   "source": [
    "# reshape data\n",
    "x_train = x_train.reshape(60000, 784)\n",
    "x_test = x_test.reshape(10000, 784)\n",
    "x_train = x_train.astype('float32')\n",
    "x_test = x_test.astype('float32')\n",
    "# normalize data\n",
    "x_train /= 255\n",
    "x_test /= 255\n",
    "print(x_train.shape[0], 'training samples')\n",
    "print(x_test.shape[0], 'test samples')"
   ]
  },
  {
   "cell_type": "markdown",
   "metadata": {},
   "source": [
    "As is the content of the labels vectors looks something like this:\n",
    "```\n",
    "array([7, 2, 1, ..., 4, 5, 6], dtype=uint8)\n",
    "```\n",
    "The NN expects them labels as binary class matrix instead, i.e. a matrix with a 1 in the position that corresponds to the given class. This is clearer with an example."
   ]
  },
  {
   "cell_type": "code",
   "execution_count": 6,
   "metadata": {},
   "outputs": [],
   "source": [
    "# convert class vectors to binary class matrices\n",
    "# use built-in keras utilties to do this\n",
    "y_train = keras.utils.to_categorical(y_train, num_classes)\n",
    "y_test = keras.utils.to_categorical(y_test, num_classes)"
   ]
  },
  {
   "cell_type": "markdown",
   "metadata": {},
   "source": [
    "Now the label for each image looks like this:\n",
    "```\n",
    "array([0., 0., 0., 0., 0., 0., 0., 1., 0., 0.], dtype=float32)\n",
    "```\n",
    "Notice that in the previous array the first digit was a 7. In the array that now corresponds to this values the 8th position is 1, corresponding to the class \"7\" since we're including 0."
   ]
  },
  {
   "cell_type": "markdown",
   "metadata": {},
   "source": [
    "### The Model\n",
    "\n",
    "We now need to construct the neural network that we're going to training to classify the digits.\n",
    "\n",
    "We start by defining the type of keras model. In this case we're using ```Sequential```. When using this type of model any layers we add are assumed to directly follow from the previous one. The other type is ```Model``` which you can read about [here](https://keras.io/models/model/).\n",
    "\n",
    "We then add the input layer. In this case we're going to use a ```Dense``` layer, i.e. a simple fully connected layer. We need to specify the number of neurons (or nodes), the [activation function](https://en.wikipedia.org/wiki/Activation_function) and the shape of the input with keyword argument ```input_shape```.\n",
    "\n",
    "We then add another dense layer but this time we don't need to specify the input shape.\n",
    "\n",
    "Finally we the output layer. Since this is a classifcation task we want the network to predict one of the ten classes, so we use ten neurons. As for the activation function, we use a [softmax function](https://en.wikipedia.org/wiki/Softmax_function) since this ensures the sum of all the output is one, so they can be thought of as a sort of probability."
   ]
  },
  {
   "cell_type": "code",
   "execution_count": 7,
   "metadata": {},
   "outputs": [
    {
     "name": "stdout",
     "output_type": "stream",
     "text": [
      "Model: \"sequential\"\n",
      "_________________________________________________________________\n",
      "Layer (type)                 Output Shape              Param #   \n",
      "=================================================================\n",
      "dense (Dense)                (None, 64)                50240     \n",
      "_________________________________________________________________\n",
      "dense_1 (Dense)              (None, 64)                4160      \n",
      "_________________________________________________________________\n",
      "dense_2 (Dense)              (None, 10)                650       \n",
      "=================================================================\n",
      "Total params: 55,050\n",
      "Trainable params: 55,050\n",
      "Non-trainable params: 0\n",
      "_________________________________________________________________\n"
     ]
    }
   ],
   "source": [
    "model = Sequential()    # define the type of keras model\n",
    "# add first layer with relu activation\n",
    "model.add(Dense(64, activation='relu', input_shape=(784,)))\n",
    "# add another layer\n",
    "model.add(Dense(64, activation='relu'))\n",
    "# add the output layer with softmax actiavtion for classication\n",
    "model.add(Dense(num_classes, activation='softmax'))\n",
    "# print a summary\n",
    "model.summary()"
   ]
  },
  {
   "cell_type": "markdown",
   "metadata": {},
   "source": [
    "The model then needs to be compiled. It's at this stage that we specify the loss function, optimiser and metrics.\n",
    "\n",
    "#### Loss function\n",
    "\n",
    "As mentioned in the post there is one main loss function for multi-class problems: **categorical cross-entropy**\n",
    "\n",
    "#### Optimiser\n",
    "\n",
    "The optimiser is the algorithm that will explore the parameter space of the network's weights and update them accordingly. In this case we're going to use [**Adam**](https://arxiv.org/abs/1412.6980) which is widely used and incorporates adaptive learning rates.\n",
    "\n",
    "Each optimiser will have hyperparameters that can be tweaked such as the learning rate, which we will set but we will leave the rest at their default values for this problem.\n",
    "\n",
    "The **learning rate** dictates how the step-size of the weights updates, and higher learning rate will lead to larger changes in the weights and a smaller value, smaller changes.\n",
    "\n",
    "#### Metrics\n",
    "\n",
    "Metrics are additional quantaties that can be used to quantify performance. In this case we can use **accuracy** which will be a percentage."
   ]
  },
  {
   "cell_type": "code",
   "execution_count": 8,
   "metadata": {},
   "outputs": [],
   "source": [
    "# compile the model\n",
    "model.compile(loss='categorical_crossentropy',\n",
    "              optimizer=Adam(lr=0.001),\n",
    "              metrics=['acc'])"
   ]
  },
  {
   "cell_type": "markdown",
   "metadata": {},
   "source": [
    "## The Training\n",
    "\n",
    "We're now ready to train the network. The `model` class has a method called `fit` that trains the model given some inputs. This is simplest way to train a model but has some limitations, for example when dealing with very large datasets that can't be loaded into memory."
   ]
  },
  {
   "cell_type": "code",
   "execution_count": 9,
   "metadata": {
    "scrolled": false
   },
   "outputs": [
    {
     "name": "stdout",
     "output_type": "stream",
     "text": [
      "Train on 60000 samples, validate on 10000 samples\n",
      "Epoch 1/20\n",
      "60000/60000 [==============================] - 5s 76us/sample - loss: 0.3849 - acc: 0.8927 - val_loss: 0.1957 - val_acc: 0.9414\n",
      "Epoch 2/20\n",
      "60000/60000 [==============================] - 4s 60us/sample - loss: 0.1661 - acc: 0.9525 - val_loss: 0.1360 - val_acc: 0.9581\n",
      "Epoch 3/20\n",
      "60000/60000 [==============================] - 4s 59us/sample - loss: 0.1222 - acc: 0.9645 - val_loss: 0.1158 - val_acc: 0.9643\n",
      "Epoch 4/20\n",
      "60000/60000 [==============================] - 4s 59us/sample - loss: 0.0957 - acc: 0.9714 - val_loss: 0.0976 - val_acc: 0.9686\n",
      "Epoch 5/20\n",
      "60000/60000 [==============================] - 4s 69us/sample - loss: 0.0792 - acc: 0.9764 - val_loss: 0.0893 - val_acc: 0.9724\n",
      "Epoch 6/20\n",
      "60000/60000 [==============================] - 5s 81us/sample - loss: 0.0689 - acc: 0.9794 - val_loss: 0.0920 - val_acc: 0.9724\n",
      "Epoch 7/20\n",
      "60000/60000 [==============================] - 5s 88us/sample - loss: 0.0588 - acc: 0.9820 - val_loss: 0.0918 - val_acc: 0.9731\n",
      "Epoch 8/20\n",
      "60000/60000 [==============================] - 4s 73us/sample - loss: 0.0498 - acc: 0.9847 - val_loss: 0.0968 - val_acc: 0.9710\n",
      "Epoch 9/20\n",
      "60000/60000 [==============================] - 4s 70us/sample - loss: 0.0452 - acc: 0.9865 - val_loss: 0.0840 - val_acc: 0.9739\n",
      "Epoch 10/20\n",
      "60000/60000 [==============================] - 4s 63us/sample - loss: 0.0379 - acc: 0.9886 - val_loss: 0.0943 - val_acc: 0.9729\n",
      "Epoch 11/20\n",
      "60000/60000 [==============================] - 5s 80us/sample - loss: 0.0341 - acc: 0.9893 - val_loss: 0.0883 - val_acc: 0.9750\n",
      "Epoch 12/20\n",
      "60000/60000 [==============================] - 4s 61us/sample - loss: 0.0308 - acc: 0.9908 - val_loss: 0.0939 - val_acc: 0.9742\n",
      "Epoch 13/20\n",
      "60000/60000 [==============================] - 4s 64us/sample - loss: 0.0271 - acc: 0.9916 - val_loss: 0.0950 - val_acc: 0.9726\n",
      "Epoch 14/20\n",
      "60000/60000 [==============================] - 5s 80us/sample - loss: 0.0229 - acc: 0.9932 - val_loss: 0.0930 - val_acc: 0.9750\n",
      "Epoch 15/20\n",
      "60000/60000 [==============================] - 6s 107us/sample - loss: 0.0228 - acc: 0.9928 - val_loss: 0.0907 - val_acc: 0.9769\n",
      "Epoch 16/20\n",
      "60000/60000 [==============================] - 4s 70us/sample - loss: 0.0211 - acc: 0.9932 - val_loss: 0.1007 - val_acc: 0.9742\n",
      "Epoch 17/20\n",
      "60000/60000 [==============================] - 4s 66us/sample - loss: 0.0167 - acc: 0.9950 - val_loss: 0.1056 - val_acc: 0.9723\n",
      "Epoch 18/20\n",
      "60000/60000 [==============================] - 5s 75us/sample - loss: 0.0128 - acc: 0.9964 - val_loss: 0.1084 - val_acc: 0.9741\n",
      "Epoch 19/20\n",
      "60000/60000 [==============================] - 4s 72us/sample - loss: 0.0156 - acc: 0.9952 - val_loss: 0.1138 - val_acc: 0.9747\n",
      "Epoch 20/20\n",
      "60000/60000 [==============================] - 4s 71us/sample - loss: 0.0160 - acc: 0.9949 - val_loss: 0.1116 - val_acc: 0.9733\n"
     ]
    }
   ],
   "source": [
    "history = model.fit(x_train, y_train,\n",
    "                    batch_size=batch_size,\n",
    "                    epochs=max_epochs,\n",
    "                    verbose=1,\n",
    "                    validation_data=(x_test, y_test))"
   ]
  },
  {
   "cell_type": "markdown",
   "metadata": {},
   "source": [
    "## Evaluation\n",
    "\n",
    "Now the model is trained we can evaluate it's performance using the test set"
   ]
  },
  {
   "cell_type": "code",
   "execution_count": 10,
   "metadata": {
    "scrolled": true
   },
   "outputs": [
    {
     "name": "stdout",
     "output_type": "stream",
     "text": [
      "Test loss: 0.11157990196991595\n",
      "Test accuracy: 0.9733\n"
     ]
    }
   ],
   "source": [
    "score = model.evaluate(x_test, y_test, verbose=0)\n",
    "print('Test loss:', score[0])\n",
    "print('Test accuracy:', score[1])"
   ]
  },
  {
   "cell_type": "markdown",
   "metadata": {},
   "source": [
    "### Loss function\n",
    "\n",
    "As mentioned before the optimisation process is a minimisation problem. The value of the loss function will refect this and we can plot it.\n",
    "\n",
    "We can use the `history` object returned by `fit` which contains a python dictionary with the loss and metrics."
   ]
  },
  {
   "cell_type": "code",
   "execution_count": 11,
   "metadata": {},
   "outputs": [
    {
     "data": {
      "image/png": "[encoded data removed]",
      "text/plain": [
       "<Figure size 720x360 with 2 Axes>"
      ]
     },
     "metadata": {
      "needs_background": "light"
     },
     "output_type": "display_data"
    }
   ],
   "source": [
    "epochs = np.arange(1, max_epochs + 1, 1)\n",
    "fig, axs = plt.subplots(2, 1, figsize=(10,5), sharex=True)\n",
    "axs = axs.ravel()\n",
    "axs[0].plot(epochs, history.history[\"loss\"], label='Training')\n",
    "axs[0].plot(epochs, history.history[\"val_loss\"], label='Validation')\n",
    "axs[1].plot(epochs, history.history[\"acc\"], label='Training')\n",
    "axs[1].plot(epochs, history.history[\"val_acc\"], label='Validation')\n",
    "\n",
    "axs[1].set_xticks(epochs)\n",
    "axs[0].set_ylabel(\"Loss\")\n",
    "axs[1].set_ylabel(\"Accuracy\")\n",
    "axs[1].set_xlabel(\"Epochs\")\n",
    "\n",
    "axs[0].legend()\n",
    "axs[1].legend()\n",
    "plt.show()"
   ]
  },
  {
   "cell_type": "markdown",
   "metadata": {},
   "source": [
    "### Confusion matrix\n",
    "\n",
    "In a multi-class classification problem a confusion matrix is useful way to understand how the neural network performs for each class.\n",
    "\n",
    "We'll be using [Sklearn](https://scikit-learn.org/stable/) to compute the values and [Seaborn](https://seaborn.pydata.org/) for plotting."
   ]
  },
  {
   "cell_type": "code",
   "execution_count": 12,
   "metadata": {},
   "outputs": [],
   "source": [
    "from sklearn.metrics import confusion_matrix"
   ]
  },
  {
   "cell_type": "markdown",
   "metadata": {},
   "source": [
    "#### Predictions\n",
    "We need the preditctions for the test set and, importantly, we need to determine which class the network has predicted."
   ]
  },
  {
   "cell_type": "code",
   "execution_count": 13,
   "metadata": {
    "scrolled": false
   },
   "outputs": [
    {
     "name": "stdout",
     "output_type": "stream",
     "text": [
      "Example of predicted values: \n",
      " [2.2593215e-13 1.3069200e-12 9.4744905e-09 3.6574952e-06 3.7674998e-16\n",
      " 6.3205829e-14 8.0117657e-20 9.9999619e-01 8.8521718e-10 1.4560078e-07]\n",
      "Corresponding true value: \n",
      " [0. 0. 0. 0. 0. 0. 0. 1. 0. 0.]\n"
     ]
    }
   ],
   "source": [
    "y_pred = model.predict(x_test)\n",
    "print(f'Example of predicted values: \\n {y_pred[0]}')\n",
    "print(f'Corresponding true value: \\n {y_test[0]}')"
   ]
  },
  {
   "cell_type": "markdown",
   "metadata": {},
   "source": [
    "The sklearn function expects class labels rather than one-hot encoding. It's easy to convert back with `numpy.argmax` along the last axis"
   ]
  },
  {
   "cell_type": "code",
   "execution_count": 14,
   "metadata": {},
   "outputs": [],
   "source": [
    "pred_class = np.argmax(y_pred, axis=1)\n",
    "true_class = np.argmax(y_test, axis=1)"
   ]
  },
  {
   "cell_type": "code",
   "execution_count": 15,
   "metadata": {},
   "outputs": [],
   "source": [
    "cm = confusion_matrix(true_class, pred_class)"
   ]
  },
  {
   "cell_type": "code",
   "execution_count": 16,
   "metadata": {},
   "outputs": [
    {
     "data": {
      "image/png": "[encoded data removed]",
      "text/plain": [
       "<Figure size 936x720 with 2 Axes>"
      ]
     },
     "metadata": {
      "needs_background": "light"
     },
     "output_type": "display_data"
    }
   ],
   "source": [
    "fig = plt.figure(figsize=(13, 10))\n",
    "sns.heatmap(cm, annot=True, square=True, fmt='g')\n",
    "plt.xlabel(\"Predicted label\")\n",
    "plt.ylabel(\"True label\")\n",
    "plt.show()"
   ]
  }
 ],
 "metadata": {
  "kernelspec": {
   "display_name": "Python 3 (tf2)",
   "language": "python",
   "name": "tf2"
  },
  "language_info": {
   "codemirror_mode": {
    "name": "ipython",
    "version": 3
   },
   "file_extension": ".py",
   "mimetype": "text/x-python",
   "name": "python",
   "nbconvert_exporter": "python",
   "pygments_lexer": "ipython3",
   "version": "3.7.5"
  }
 },
 "nbformat": 4,
 "nbformat_minor": 2
}
