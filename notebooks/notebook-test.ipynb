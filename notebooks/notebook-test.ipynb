{
 "cells": [
  {
   "cell_type": "markdown",
   "metadata": {},
   "source": [
    "# Intro2ML - Notebook test\n",
    "\n",
    "This notebook serves as a quick to test to check that Google Colab works (or you local install) and the initial setup is completed. You will need a **Google account** to use Colab. They are freely available and can be tied to any email address: https://myaccount.google.com/intro\n",
    "\n",
    "[![Open In Colab](https://colab.research.google.com/assets/colab-badge.svg)](https://colab.research.google.com/github/mj-will/intro2ml/blob/master/notebooks/colab-test.ipynb)"
   ]
  },
  {
   "cell_type": "markdown",
   "metadata": {},
   "source": [
    "Import the modules used in the notebooks, if they all import you should be good to go."
   ]
  },
  {
   "cell_type": "code",
   "execution_count": 1,
   "metadata": {},
   "outputs": [
    {
     "name": "stdout",
     "output_type": "stream",
     "text": [
      "Tensorflow version 2.2.4-tf\n",
      "Everything imported correctly! Goood to go!\n"
     ]
    }
   ],
   "source": [
    "import numpy\n",
    "import six.moves\n",
    "import pandas\n",
    "import seaborn\n",
    "import matplotlib.pyplot\n",
    "import sklearn\n",
    "\n",
    "import tensorflow.keras\n",
    "print(f'Tensorflow version {tensorflow.keras.__version__}')\n",
    "print('Everything imported correctly! Goood to go!')"
   ]
  }
 ],
 "metadata": {
  "kernelspec": {
   "display_name": "Python 3",
   "language": "python",
   "name": "python3"
  },
  "language_info": {
   "codemirror_mode": {
    "name": "ipython",
    "version": 3
   },
   "file_extension": ".py",
   "mimetype": "text/x-python",
   "name": "python",
   "nbconvert_exporter": "python",
   "pygments_lexer": "ipython3",
   "version": "3.7.5"
  }
 },
 "nbformat": 4,
 "nbformat_minor": 2
}
