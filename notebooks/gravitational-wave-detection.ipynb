{
  "nbformat": 4,
  "nbformat_minor": 0,
  "metadata": {
    "kernelspec": {
      "name": "python3",
      "display_name": "Python 3"
    },
    "colab": {
      "name": "gravitational-wave-detection.ipynb",
      "provenance": []
    },
    "accelerator": "GPU"
  },
  "cells": [
    {
      "cell_type": "markdown",
      "metadata": {
        "id": "Oom9MQEcHb7J",
        "colab_type": "text"
      },
      "source": [
        "# Gravitational wave detection with neural networks\n",
        "\n",
        "In [Gabbard et al](https://journals.aps.org/prl/abstract/10.1103/PhysRevLett.120.141103) convolutional neural networks are used to detect simulated signals from binary black hole coalescence in noisy data. This notebook outlines the approached used with a snippet of the data used in the publication.\n",
        "\n",
        "A convolutional neural network will used to detect the signals and its performance analysed.\n",
        "\n",
        "[![Open In Colab](https://colab.research.google.com/assets/colab-badge.svg)](https://colab.research.google.com/github/mj-will/intro2ml/blob/master/notebooks/gravitational-wave-detection.ipynb)"
      ]
    },
    {
      "cell_type": "code",
      "metadata": {
        "scrolled": true,
        "id": "PmpVE8giHb7O",
        "colab_type": "code",
        "colab": {}
      },
      "source": [
        "import os\n",
        "from six.moves import cPickle as pickle\n",
        "import numpy as np\n",
        "import matplotlib.pyplot as plt\n",
        "import seaborn as sns\n",
        "sns.set_style()\n",
        "\n",
        "import tensorflow.keras as keras\n",
        "from tensorflow.keras.models import Sequential\n",
        "from tensorflow.keras.layers import Dense, Conv1D, MaxPooling1D, Flatten\n",
        "from tensorflow.keras.optimizers import Adam\n"
      ],
      "execution_count": 0,
      "outputs": []
    },
    {
      "cell_type": "markdown",
      "metadata": {
        "id": "nWfFZyxQHb7a",
        "colab_type": "text"
      },
      "source": [
        "## Data\n",
        "\n",
        "Data is available [here](http://www.astro.gla.ac.uk/users/michael/datasets/bbh/BBH_training_1s_1024Hz_10Ksamp_1n_iSNR8_Hdet_astromass_1seed_ts_0.pkl) but this notebook will automatically download it with the following function.\n",
        "\n",
        "The data consists of time series which will be labelled `x` and labels (no signal/signal) labelled `y`. The dimensions of the time series array will be:\n",
        "`[number of time series, number of detectors, number of samples]`\n",
        "\n",
        "The number of samples with depend on the duration and sampling rate, in this example the data is one second long and sampled at 1024Hz.\n"
      ]
    },
    {
      "cell_type": "code",
      "metadata": {
        "id": "txYibqd7Hb7c",
        "colab_type": "code",
        "colab": {}
      },
      "source": [
        "def fetch_data(url, filename):\n",
        "    \"\"\"Fetch data from a url and save it to given file\"\"\"\n",
        "    import urllib\n",
        "    urllib.request.urlretrieve(url, filename=filename)"
      ],
      "execution_count": 0,
      "outputs": []
    },
    {
      "cell_type": "code",
      "metadata": {
        "id": "_sbIvauJHb7j",
        "colab_type": "code",
        "colab": {}
      },
      "source": [
        "# url of the data\n",
        "data_url = 'http://www.astro.gla.ac.uk/users/michael/datasets/bbh/BBH_training_1s_1024Hz_10Ksamp_1n_iSNR8_Hdet_astromass_1seed_ts_0.pkl'\n",
        "# path to save the data\n",
        "data_file = './data.pkl'\n",
        "# only download the data if the file doesn't already exist\n",
        "if not os.path.isfile(data_file):\n",
        "    fetch_data(data_url, data_file)"
      ],
      "execution_count": 0,
      "outputs": []
    },
    {
      "cell_type": "code",
      "metadata": {
        "id": "SY4niVoiHb7p",
        "colab_type": "code",
        "colab": {}
      },
      "source": [
        "def load_data(data_file, start=512, length=1024):\n",
        "    \"\"\"Load the data and remove the first and last 0.5 seconds of padding\"\"\"\n",
        "    # load the pickled data\n",
        "    with open(data_file, 'rb') as f:\n",
        "        x, y = pickle.load(f)\n",
        "    # ts are 2048 long, so want middle 1024 samples\n",
        "    x = x[:,:,start:(start+length)]\n",
        "    print(f'x shape: {x.shape}, y shape: {y.shape}')\n",
        "    return x, y"
      ],
      "execution_count": 0,
      "outputs": []
    },
    {
      "cell_type": "code",
      "metadata": {
        "id": "vHoJ0-bjHb7v",
        "colab_type": "code",
        "colab": {
          "base_uri": "https://localhost:8080/",
          "height": 34
        },
        "outputId": "bad8bb6c-eccd-43e0-8bb5-19c2e81bdb6d"
      },
      "source": [
        "x, y = load_data(data_file)"
      ],
      "execution_count": 5,
      "outputs": [
        {
          "output_type": "stream",
          "text": [
            "x shape: (10000, 1, 1024), y shape: (10000,)\n"
          ],
          "name": "stdout"
        }
      ]
    },
    {
      "cell_type": "markdown",
      "metadata": {
        "id": "q5xz3UoXMjMm",
        "colab_type": "text"
      },
      "source": [
        "Once the data is loaded plot one of the time series.\n",
        "\n",
        "As mentioned before the sampling rate `fs` is 1024Hz and the duration is 1 second."
      ]
    },
    {
      "cell_type": "code",
      "metadata": {
        "scrolled": false,
        "id": "3V8qXKZnHb71",
        "colab_type": "code",
        "colab": {
          "base_uri": "https://localhost:8080/",
          "height": 391
        },
        "outputId": "abd9f3f7-7aab-42b6-fe4b-22694a2dfdff"
      },
      "source": [
        "fs = 1024                           # sampling frequency\n",
        "duration = 1\n",
        "t = np.arange(0, duration, 1. / fs) # array of time steps\n",
        "fig = plt.figure(figsize=(8,6))\n",
        "plt.plot(t, x[0, 0])\n",
        "plt.xlabel(\"Time (s)\")\n",
        "plt.ylabel(\"Whitened strain\")\n",
        "plt.show()"
      ],
      "execution_count": 6,
      "outputs": [
        {
          "output_type": "display_data",
          "data": {
            "image/png": "[encoded data removed]",
            "text/plain": [
              "<Figure size 576x432 with 1 Axes>"
            ]
          },
          "metadata": {
            "tags": []
          }
        }
      ]
    },
    {
      "cell_type": "markdown",
      "metadata": {
        "id": "Lx4gmTKRHb77",
        "colab_type": "text"
      },
      "source": [
        "### Labels\n",
        "\n",
        "In their original forms the labels are simply a list of zeros and ones with zero corresponding to no signal and one correponding to signal. We want the trained neural network to predict these labels as accurately as possible.\n"
      ]
    },
    {
      "cell_type": "code",
      "metadata": {
        "scrolled": false,
        "id": "ToWWpQ5dHb79",
        "colab_type": "code",
        "colab": {
          "base_uri": "https://localhost:8080/",
          "height": 34
        },
        "outputId": "a9936901-1d9d-4abe-e1ad-183b8186715a"
      },
      "source": [
        "print(f'Label vector: {y[:10]}')"
      ],
      "execution_count": 7,
      "outputs": [
        {
          "output_type": "stream",
          "text": [
            "Label vector: [1 0 1 1 0 0 1 0 0 1]\n"
          ],
          "name": "stdout"
        }
      ]
    },
    {
      "cell_type": "markdown",
      "metadata": {
        "id": "zNxSDiboHb8D",
        "colab_type": "text"
      },
      "source": [
        "Because of the loss function we're going to use this needs to be converted to a matrix form (also known as one-hot encoding).\n",
        "\n",
        "Keras includes a function to do this automatically."
      ]
    },
    {
      "cell_type": "code",
      "metadata": {
        "scrolled": true,
        "id": "42jUth0eHb8F",
        "colab_type": "code",
        "colab": {
          "base_uri": "https://localhost:8080/",
          "height": 191
        },
        "outputId": "adfddf52-2bd6-4699-b2c3-46826839af9d"
      },
      "source": [
        "num_classes = 2\n",
        "y_cat = keras.utils.to_categorical(y, num_classes)\n",
        "print(f'Label matrices: {y_cat[:10]}')"
      ],
      "execution_count": 8,
      "outputs": [
        {
          "output_type": "stream",
          "text": [
            "Label matrices: [[0. 1.]\n",
            " [1. 0.]\n",
            " [0. 1.]\n",
            " [0. 1.]\n",
            " [1. 0.]\n",
            " [1. 0.]\n",
            " [0. 1.]\n",
            " [1. 0.]\n",
            " [1. 0.]\n",
            " [0. 1.]]\n"
          ],
          "name": "stdout"
        }
      ]
    },
    {
      "cell_type": "markdown",
      "metadata": {
        "id": "qNWrZW-dHb8K",
        "colab_type": "text"
      },
      "source": [
        "Where the first column now corresponds to noise and the second to signal. So `[1. 0.]` indicates noise and `[0. 1.]` indicates a signal."
      ]
    },
    {
      "cell_type": "markdown",
      "metadata": {
        "id": "kn1YijeMHb8M",
        "colab_type": "text"
      },
      "source": [
        "### Training/testing split\n",
        "\n",
        "We reserve some of the data to use after training. This is used to test the network peformance on unseen data.\n",
        "\n",
        "In this case we reserve 10% of the data."
      ]
    },
    {
      "cell_type": "code",
      "metadata": {
        "id": "1cmfEeudHb8N",
        "colab_type": "code",
        "colab": {}
      },
      "source": [
        "n_train = int(0.9 * x.shape[0])\n",
        "x_train, x_test = x[:n_train], x[n_train:]\n",
        "y_train, y_test = y_cat[:n_train], y_cat[n_train:]"
      ],
      "execution_count": 0,
      "outputs": []
    },
    {
      "cell_type": "markdown",
      "metadata": {
        "id": "0cnbcb2fHb8S",
        "colab_type": "text"
      },
      "source": [
        "## The model\n",
        "\n",
        "The model define the structure of the neural network we're going to train.\n",
        "\n",
        "In this case we're going to use a mix of convolutional layers and fully connected layers."
      ]
    },
    {
      "cell_type": "code",
      "metadata": {
        "id": "XLk-mcILHb8U",
        "colab_type": "code",
        "colab": {}
      },
      "source": [
        "batch_size = 50              # number of samples in each batch of training data\n",
        "input_shape = [1, 1024]      # shape of the data\n",
        "activation = 'relu'          # activation function"
      ],
      "execution_count": 0,
      "outputs": []
    },
    {
      "cell_type": "code",
      "metadata": {
        "scrolled": false,
        "id": "prLXoqLyHb8Y",
        "colab_type": "code",
        "colab": {
          "base_uri": "https://localhost:8080/",
          "height": 489
        },
        "outputId": "34a52e02-0f58-45e4-e83d-228b569c5bea"
      },
      "source": [
        "model = Sequential()\n",
        "model.add(Conv1D(16, \n",
        "                 kernel_size=16, \n",
        "                 input_shape=input_shape, \n",
        "                 activation=activation,\n",
        "                 data_format='channels_first'))\n",
        "model.add(MaxPooling1D(pool_size=4))\n",
        "model.add(Conv1D(16, \n",
        "                 kernel_size=16, \n",
        "                 activation=activation,\n",
        "                 data_format='channels_first'))\n",
        "model.add(MaxPooling1D(pool_size=4))\n",
        "model.add(Flatten())\n",
        "model.add(Dense(32, activation=activation))\n",
        "model.add(Dense(2, activation='softmax'))\n",
        "print(model.summary())"
      ],
      "execution_count": 13,
      "outputs": [
        {
          "output_type": "stream",
          "text": [
            "WARNING:tensorflow:From /usr/local/lib/python3.6/dist-packages/tensorflow_core/python/ops/resource_variable_ops.py:1630: calling BaseResourceVariable.__init__ (from tensorflow.python.ops.resource_variable_ops) with constraint is deprecated and will be removed in a future version.\n",
            "Instructions for updating:\n",
            "If using Keras pass *_constraint arguments to layers.\n",
            "Model: \"sequential\"\n",
            "_________________________________________________________________\n",
            "Layer (type)                 Output Shape              Param #   \n",
            "=================================================================\n",
            "conv1d (Conv1D)              (None, 16, 1009)          272       \n",
            "_________________________________________________________________\n",
            "max_pooling1d (MaxPooling1D) (None, 4, 1009)           0         \n",
            "_________________________________________________________________\n",
            "conv1d_1 (Conv1D)            (None, 16, 994)           1040      \n",
            "_________________________________________________________________\n",
            "max_pooling1d_1 (MaxPooling1 (None, 4, 994)            0         \n",
            "_________________________________________________________________\n",
            "flatten (Flatten)            (None, 3976)              0         \n",
            "_________________________________________________________________\n",
            "dense (Dense)                (None, 32)                127264    \n",
            "_________________________________________________________________\n",
            "dense_1 (Dense)              (None, 2)                 66        \n",
            "=================================================================\n",
            "Total params: 128,642\n",
            "Trainable params: 128,642\n",
            "Non-trainable params: 0\n",
            "_________________________________________________________________\n",
            "None\n"
          ],
          "name": "stdout"
        }
      ]
    },
    {
      "cell_type": "markdown",
      "metadata": {
        "id": "wAFnrCsoHb8c",
        "colab_type": "text"
      },
      "source": [
        "### Compiling\n",
        "\n",
        "In keras the model must be compiled before training. It's at this stage that we specify the loss function to use and what optimiser to use.\n",
        "\n",
        "The optimiser is the algorithm that is used to explore the parameter space of the network weights.\n",
        "\n",
        "In this case we're using Categorical Crossentropy as the loss function. This combined with the Softmax layer means the network will ouput a vector of probabilities for each samples where each probability corresponds to a particular class.\n",
        "For this binary (noise/signal) case it can written as:\n",
        "\n",
        "$$f(\\theta) = - \\sum_{i \\in S} log(\\theta_{i}^{S}) - \\sum_{i \\in N} log(\\theta_{i}^{N})$$\n",
        "\n",
        "where $\\theta_{i}^{S/N}$ is the predicted probability of class signal-noise (S) or noise-only (N)."
      ]
    },
    {
      "cell_type": "code",
      "metadata": {
        "id": "v4woNpDMHb8d",
        "colab_type": "code",
        "colab": {}
      },
      "source": [
        "model.compile(loss='categorical_crossentropy',\n",
        "              optimizer=Adam(lr=0.001), metrics=['accuracy'])"
      ],
      "execution_count": 0,
      "outputs": []
    },
    {
      "cell_type": "markdown",
      "metadata": {
        "id": "O_DSujdIHb8h",
        "colab_type": "text"
      },
      "source": [
        "## Training\n",
        "\n",
        "When training the network we train for a set number of complete passes of the data known as epochs.\n",
        "\n",
        "A portion of the data (the validation set) is used to keep track of the networks performance during training. Importantly it is never used to update the networks parameters."
      ]
    },
    {
      "cell_type": "code",
      "metadata": {
        "scrolled": false,
        "id": "hHfVTx8cHb8j",
        "colab_type": "code",
        "colab": {
          "base_uri": "https://localhost:8080/",
          "height": 382
        },
        "outputId": "a10d25a2-685d-414f-a857-4086563cca4d"
      },
      "source": [
        "n_epochs = 10\n",
        "history = model.fit(x_train, y_train, validation_split=0.2, batch_size=batch_size, epochs=n_epochs)"
      ],
      "execution_count": 15,
      "outputs": [
        {
          "output_type": "stream",
          "text": [
            "Train on 7200 samples, validate on 1800 samples\n",
            "Epoch 1/10\n",
            "7200/7200 [==============================] - 2s 296us/sample - loss: 0.6414 - acc: 0.6187 - val_loss: 0.4692 - val_acc: 0.7889\n",
            "Epoch 2/10\n",
            "7200/7200 [==============================] - 1s 94us/sample - loss: 0.4396 - acc: 0.7967 - val_loss: 0.3697 - val_acc: 0.8433\n",
            "Epoch 3/10\n",
            "7200/7200 [==============================] - 1s 93us/sample - loss: 0.3265 - acc: 0.8618 - val_loss: 0.2322 - val_acc: 0.9083\n",
            "Epoch 4/10\n",
            "7200/7200 [==============================] - 1s 92us/sample - loss: 0.2175 - acc: 0.9118 - val_loss: 0.1864 - val_acc: 0.9256\n",
            "Epoch 5/10\n",
            "7200/7200 [==============================] - 1s 94us/sample - loss: 0.1814 - acc: 0.9281 - val_loss: 0.1793 - val_acc: 0.9239\n",
            "Epoch 6/10\n",
            "7200/7200 [==============================] - 1s 98us/sample - loss: 0.1629 - acc: 0.9347 - val_loss: 0.1695 - val_acc: 0.9328\n",
            "Epoch 7/10\n",
            "7200/7200 [==============================] - 1s 93us/sample - loss: 0.1613 - acc: 0.9342 - val_loss: 0.1777 - val_acc: 0.9250\n",
            "Epoch 8/10\n",
            "7200/7200 [==============================] - 1s 94us/sample - loss: 0.1379 - acc: 0.9464 - val_loss: 0.1700 - val_acc: 0.9322\n",
            "Epoch 9/10\n",
            "7200/7200 [==============================] - 1s 94us/sample - loss: 0.1290 - acc: 0.9488 - val_loss: 0.2602 - val_acc: 0.8933\n",
            "Epoch 10/10\n",
            "7200/7200 [==============================] - 1s 91us/sample - loss: 0.1144 - acc: 0.9586 - val_loss: 0.1748 - val_acc: 0.9306\n"
          ],
          "name": "stdout"
        }
      ]
    },
    {
      "cell_type": "markdown",
      "metadata": {
        "id": "X3wxnLuOHb8n",
        "colab_type": "text"
      },
      "source": [
        "### Loss\n",
        "\n",
        "We can plot the loss function to better understand how the network has trained"
      ]
    },
    {
      "cell_type": "code",
      "metadata": {
        "id": "h-lOGqROHb8o",
        "colab_type": "code",
        "colab": {
          "base_uri": "https://localhost:8080/",
          "height": 609
        },
        "outputId": "7863ad2e-047f-4983-a0fe-81d3368cdcd6"
      },
      "source": [
        "fig, axs = plt.subplots(2, 1, figsize=(8, 10), sharex=True)\n",
        "axs = axs.ravel()\n",
        "epochs = np.arange(1, n_epochs+1)\n",
        "axs[0].plot(epochs, history.history['loss'], label='Loss')\n",
        "axs[0].plot(epochs, history.history['val_loss'], label='Val. loss')\n",
        "axs[1].plot(epochs, history.history['acc'], label='Accuracy')\n",
        "axs[1].plot(epochs, history.history['val_acc'], label='Val. accuracy')\n",
        "# labels\n",
        "axs[1].set_xlabel(\"Epochs\")\n",
        "axs[0].set_ylabel(\"Loss\")\n",
        "axs[1].set_ylabel(\"Accuracy\")\n",
        "axs[0].legend()\n",
        "axs[1].legend()\n",
        "plt.show()"
      ],
      "execution_count": 16,
      "outputs": [
        {
          "output_type": "display_data",
          "data": {
            "image/png": "[encoded data removed]",
            "text/plain": [
              "<Figure size 576x720 with 2 Axes>"
            ]
          },
          "metadata": {
            "tags": []
          }
        }
      ]
    },
    {
      "cell_type": "markdown",
      "metadata": {
        "id": "MDwkKVmBHb8t",
        "colab_type": "text"
      },
      "source": [
        "## Testing\n",
        "\n",
        "Now the network is trained we can use the test set to further evaluate it's performance."
      ]
    },
    {
      "cell_type": "code",
      "metadata": {
        "id": "TN86_qWcHb8u",
        "colab_type": "code",
        "colab": {}
      },
      "source": [
        "from sklearn import metrics"
      ],
      "execution_count": 0,
      "outputs": []
    },
    {
      "cell_type": "code",
      "metadata": {
        "id": "99KW5_H7Hb8y",
        "colab_type": "code",
        "colab": {}
      },
      "source": [
        "y_pred = model.predict(x_test)"
      ],
      "execution_count": 0,
      "outputs": []
    },
    {
      "cell_type": "code",
      "metadata": {
        "id": "Z4xHEnT1Hb82",
        "colab_type": "code",
        "colab": {}
      },
      "source": [
        "fa, ta, _ = metrics.roc_curve(y_test[:,1], y_pred[:,1])"
      ],
      "execution_count": 0,
      "outputs": []
    },
    {
      "cell_type": "code",
      "metadata": {
        "scrolled": false,
        "id": "NZ91kiBDHb86",
        "colab_type": "code",
        "colab": {}
      },
      "source": [
        "fig = plt.figure(figsize=(8,8))\n",
        "plt.plot(fa, ta,)\n",
        "plt.xlabel('False alarm probability')\n",
        "plt.ylabel('True alarm probability')\n",
        "plt.title('ROC curve ')\n",
        "plt.show()"
      ],
      "execution_count": 0,
      "outputs": []
    }
  ]
}