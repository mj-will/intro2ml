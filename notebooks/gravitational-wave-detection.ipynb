{
  "nbformat": 4,
  "nbformat_minor": 0,
  "metadata": {
    "kernelspec": {
      "name": "python3",
      "display_name": "Python 3"
    },
    "colab": {
      "name": "gravitational-wave-detection.ipynb",
      "provenance": []
    },
    "accelerator": "GPU"
  },
  "cells": [
    {
      "cell_type": "markdown",
      "metadata": {
        "id": "Oom9MQEcHb7J",
        "colab_type": "text"
      },
      "source": [
        "# Gravitational wave detection with convolutional neural networks\n",
        "\n",
        "[Michael J Williams](mailto:m.williams.4@research.gla.ac.uk)\n",
        "\n",
        "\n",
        "Institute for Gravitational Research \n",
        "\n",
        "University of Glasgow\n",
        "\n",
        "<div style=\"text-align:center\"><img src=\"https://raw.githubusercontent.com/mj-will/intro2ml/master/docs/assets/igr.jpg\" width=\"100\"/></div>\n",
        "\n",
        "In [Gabbard et al](https://journals.aps.org/prl/abstract/10.1103/PhysRevLett.120.141103) convolutional neural networks are used to detect simulated signals from binary black hole coalescence in noisy data. This notebook outlines the approached used with a snippet of the data used in the publication.\n",
        "\n",
        "A convolutional neural network will used to detect the signals and its performance analysed.\n",
        "\n",
        "[![Open In Colab](https://colab.research.google.com/assets/colab-badge.svg)](https://colab.research.google.com/github/mj-will/intro2ml/blob/master/notebooks/gravitational-wave-detection.ipynb)"
      ]
    },
    {
      "cell_type": "code",
      "metadata": {
        "scrolled": true,
        "id": "PmpVE8giHb7O",
        "colab_type": "code",
        "outputId": "b8bc0410-9be2-4cda-f659-120ce3a524cb",
        "colab": {
          "base_uri": "https://localhost:8080/",
          "height": 64
        }
      },
      "source": [
        "import os\n",
        "from six.moves import cPickle as pickle\n",
        "import numpy as np\n",
        "import matplotlib.pyplot as plt\n",
        "import seaborn as sns\n",
        "sns.set()\n",
        "\n",
        "import tensorflow.keras as keras\n",
        "from tensorflow.keras.models import Sequential\n",
        "from tensorflow.keras.layers import Dense, Conv1D, MaxPooling1D, Flatten\n",
        "from tensorflow.keras.optimizers import Adam\n"
      ],
      "execution_count": 0,
      "outputs": [
        {
          "output_type": "display_data",
          "data": {
            "text/html": [
              "<p style=\"color: red;\">\n",
              "The default version of TensorFlow in Colab will soon switch to TensorFlow 2.x.<br>\n",
              "We recommend you <a href=\"https://www.tensorflow.org/guide/migrate\" target=\"_blank\">upgrade</a> now \n",
              "or ensure your notebook will continue to use TensorFlow 1.x via the <code>%tensorflow_version 1.x</code> magic:\n",
              "<a href=\"https://colab.research.google.com/notebooks/tensorflow_version.ipynb\" target=\"_blank\">more info</a>.</p>\n"
            ],
            "text/plain": [
              "<IPython.core.display.HTML object>"
            ]
          },
          "metadata": {
            "tags": []
          }
        }
      ]
    },
    {
      "cell_type": "markdown",
      "metadata": {
        "id": "nWfFZyxQHb7a",
        "colab_type": "text"
      },
      "source": [
        "## Data\n",
        "\n",
        "Data is available [here](http://www.astro.gla.ac.uk/users/michael/datasets/bbh/BBH_training_1s_1024Hz_10Ksamp_1n_iSNR8_Hdet_astromass_1seed_ts_0.pkl) but this notebook will automatically download it with the following function.\n",
        "\n",
        "The data consists of time series which will be labelled `x` and labels (no signal/signal) labelled `y`. The dimensions of the time series array will be:\n",
        "`[number of time series, number of detectors, number of samples]`\n",
        "\n",
        "The number of samples with depend on the duration and sampling rate, in this example the data is one second long and sampled at 1024Hz.\n"
      ]
    },
    {
      "cell_type": "code",
      "metadata": {
        "id": "txYibqd7Hb7c",
        "colab_type": "code",
        "colab": {}
      },
      "source": [
        "def fetch_data(url, filename):\n",
        "    \"\"\"Fetch data from a url and save it to given file\"\"\"\n",
        "    import urllib\n",
        "    urllib.request.urlretrieve(url, filename=filename)"
      ],
      "execution_count": 0,
      "outputs": []
    },
    {
      "cell_type": "code",
      "metadata": {
        "id": "_sbIvauJHb7j",
        "colab_type": "code",
        "colab": {}
      },
      "source": [
        "# url of the data\n",
        "data_url = 'http://www.astro.gla.ac.uk/users/michael/datasets/bbh/BBH_training_1s_1024Hz_10Ksamp_1n_iSNR8_Hdet_astromass_1seed_ts_0.pkl'\n",
        "# path to save the data\n",
        "data_file = './data.pkl'\n",
        "# only download the data if the file doesn't already exist\n",
        "if not os.path.isfile(data_file):\n",
        "    fetch_data(data_url, data_file)"
      ],
      "execution_count": 0,
      "outputs": []
    },
    {
      "cell_type": "code",
      "metadata": {
        "id": "SY4niVoiHb7p",
        "colab_type": "code",
        "colab": {}
      },
      "source": [
        "def load_data(data_file, start=512, length=1024):\n",
        "    \"\"\"Load the data and remove the first and last 0.5 seconds of padding\"\"\"\n",
        "    # load the pickled data\n",
        "    with open(data_file, 'rb') as f:\n",
        "        x, y = pickle.load(f)\n",
        "    # ts are 2048 long, so want middle 1024 samples\n",
        "    x = x[:,:,start:(start+length)]\n",
        "    print(f'x shape: {x.shape}, y shape: {y.shape}')\n",
        "    return x, y"
      ],
      "execution_count": 0,
      "outputs": []
    },
    {
      "cell_type": "code",
      "metadata": {
        "id": "vHoJ0-bjHb7v",
        "colab_type": "code",
        "outputId": "a508ef35-d158-4185-d115-5ef9787d2a22",
        "colab": {
          "base_uri": "https://localhost:8080/",
          "height": 34
        }
      },
      "source": [
        "x, y = load_data(data_file)"
      ],
      "execution_count": 0,
      "outputs": [
        {
          "output_type": "stream",
          "text": [
            "x shape: (10000, 1, 1024), y shape: (10000,)\n"
          ],
          "name": "stdout"
        }
      ]
    },
    {
      "cell_type": "markdown",
      "metadata": {
        "id": "q5xz3UoXMjMm",
        "colab_type": "text"
      },
      "source": [
        "Once the data is loaded plot one of the time series.\n",
        "\n",
        "As mentioned before the sampling rate `fs` is 1024Hz and the duration is 1 second."
      ]
    },
    {
      "cell_type": "code",
      "metadata": {
        "scrolled": false,
        "id": "3V8qXKZnHb71",
        "colab_type": "code",
        "outputId": "ccc645cc-7c95-4d7e-a47c-ba370237861c",
        "colab": {
          "base_uri": "https://localhost:8080/",
          "height": 394
        }
      },
      "source": [
        "fs = 1024                           # sampling frequency\n",
        "duration = 1\n",
        "t = np.arange(0, duration, 1. / fs) # array of time steps\n",
        "fig = plt.figure(figsize=(8,6))\n",
        "plt.plot(t, x[0, 0])\n",
        "plt.xlabel(\"Time (s)\")\n",
        "plt.ylabel(\"Whitened strain\")\n",
        "plt.show()"
      ],
      "execution_count": 0,
      "outputs": [
        {
          "output_type": "display_data",
          "data": {
            "image/png": "[encoded data removed]",
            "text/plain": [
              "<Figure size 576x432 with 1 Axes>"
            ]
          },
          "metadata": {
            "tags": []
          }
        }
      ]
    },
    {
      "cell_type": "markdown",
      "metadata": {
        "id": "Lx4gmTKRHb77",
        "colab_type": "text"
      },
      "source": [
        "### Labels\n",
        "\n",
        "In their original forms the labels are simply a list of zeros and ones with zero corresponding to no signal and one correponding to signal. We want the trained neural network to predict these labels as accurately as possible.\n"
      ]
    },
    {
      "cell_type": "code",
      "metadata": {
        "scrolled": false,
        "id": "ToWWpQ5dHb79",
        "colab_type": "code",
        "outputId": "781f71d9-67a4-4ede-fd27-1085c164c12c",
        "colab": {
          "base_uri": "https://localhost:8080/",
          "height": 34
        }
      },
      "source": [
        "print(f'Label vector: {y[:10]}')"
      ],
      "execution_count": 0,
      "outputs": [
        {
          "output_type": "stream",
          "text": [
            "Label vector: [1 0 1 1 0 0 1 0 0 1]\n"
          ],
          "name": "stdout"
        }
      ]
    },
    {
      "cell_type": "markdown",
      "metadata": {
        "id": "zNxSDiboHb8D",
        "colab_type": "text"
      },
      "source": [
        "Because of the loss function we're going to use this needs to be converted to a matrix form (also known as one-hot encoding).\n",
        "\n",
        "Keras includes a function to do this automatically."
      ]
    },
    {
      "cell_type": "code",
      "metadata": {
        "scrolled": true,
        "id": "42jUth0eHb8F",
        "colab_type": "code",
        "outputId": "b239a4fd-6f46-4aaf-9a35-69f3c79f68de",
        "colab": {
          "base_uri": "https://localhost:8080/",
          "height": 191
        }
      },
      "source": [
        "num_classes = 2\n",
        "y_cat = keras.utils.to_categorical(y, num_classes)\n",
        "print(f'Label matrices: {y_cat[:10]}')"
      ],
      "execution_count": 0,
      "outputs": [
        {
          "output_type": "stream",
          "text": [
            "Label matrices: [[0. 1.]\n",
            " [1. 0.]\n",
            " [0. 1.]\n",
            " [0. 1.]\n",
            " [1. 0.]\n",
            " [1. 0.]\n",
            " [0. 1.]\n",
            " [1. 0.]\n",
            " [1. 0.]\n",
            " [0. 1.]]\n"
          ],
          "name": "stdout"
        }
      ]
    },
    {
      "cell_type": "markdown",
      "metadata": {
        "id": "qNWrZW-dHb8K",
        "colab_type": "text"
      },
      "source": [
        "Where the first column now corresponds to noise and the second to signal. So `[1. 0.]` indicates noise and `[0. 1.]` indicates a signal."
      ]
    },
    {
      "cell_type": "markdown",
      "metadata": {
        "id": "kn1YijeMHb8M",
        "colab_type": "text"
      },
      "source": [
        "### Training/testing split\n",
        "\n",
        "We reserve some of the data to use after training. This is used to test the network peformance on unseen data.\n",
        "\n",
        "In this case we reserve 10% of the data."
      ]
    },
    {
      "cell_type": "code",
      "metadata": {
        "id": "1cmfEeudHb8N",
        "colab_type": "code",
        "colab": {}
      },
      "source": [
        "n_train = int(0.9 * x.shape[0])\n",
        "x_train, x_test = x[:n_train], x[n_train:]\n",
        "y_train, y_test = y_cat[:n_train], y_cat[n_train:]"
      ],
      "execution_count": 0,
      "outputs": []
    },
    {
      "cell_type": "markdown",
      "metadata": {
        "id": "RtEnOOgaOfnU",
        "colab_type": "text"
      },
      "source": [
        "\n",
        "## General parameters\n",
        "\n",
        "We need to define some general parameters for networks we're going to use:\n",
        "\n",
        "* Batch size: refers to the number of images/samples passed to the network in a single instance of training\n",
        "* Input shape: defines the shape of the input to the network, the batch size is ignored so we only specify the number of channels(detectors) and the length of the time series.\n",
        "* Epochs: refers to the number of times the network will train on the complete dataset\n",
        "\n"
      ]
    },
    {
      "cell_type": "code",
      "metadata": {
        "id": "XLk-mcILHb8U",
        "colab_type": "code",
        "colab": {}
      },
      "source": [
        "batch_size = 50              # number of samples in each batch of training data\n",
        "input_shape = [1, 1024]      # shape of the data\n",
        "n_epochs = 10                # number of epochs to train for"
      ],
      "execution_count": 0,
      "outputs": []
    },
    {
      "cell_type": "markdown",
      "metadata": {
        "id": "0cnbcb2fHb8S",
        "colab_type": "text"
      },
      "source": [
        "## The model\n",
        "\n",
        "We now need to construct the neural network that we're going to training to classify the data.\n",
        "\n",
        "We start by defining the type of keras model. In this case we're using `Sequential`. When using this type of model any layers we add are assumed to directly follow from the previous one. The other type is Model which you can read about here.\n",
        "\n",
        "We then add the input layer. In this case we're going to use a 1D covolutional layer (`Conv1D`) layer. We need to specify the number of neurons, the size of the filter (or kernel), the activation function and the shape of the input with keyword argument input_shape. We also specifiy the order of the data to be `channels_first`.\n",
        "\n",
        "We then add 1D Max-pooling which will reduce the dimensions of data being passed to the next layer by taking the maximum value in blocks of a given size (in this case 4).\n",
        "\n",
        "We the repeat the convolution + max-pooling combination again.\n",
        "\n",
        "This is followed by a `Dense` layer (or fully-connected), which requieres a flat input so we also add a flattening layer. For dense layer we only need to specifiy the number of neurons and the activation function.\n",
        "\n",
        "Finally we the output layer. Since this is a classifcation task we want the network to predict one of the two classes, so we use two neurons. As for the activation function, we use a softmax function since this ensures the sum of all the output is one, so they can be thought of as a sort of probability."
      ]
    },
    {
      "cell_type": "code",
      "metadata": {
        "scrolled": false,
        "id": "prLXoqLyHb8Y",
        "colab_type": "code",
        "outputId": "2e7fa0bb-8eab-4a76-cc3b-9afbaca265a4",
        "colab": {
          "base_uri": "https://localhost:8080/",
          "height": 489
        }
      },
      "source": [
        "model = Sequential()\n",
        "model.add(Conv1D(16, \n",
        "                 kernel_size=16, \n",
        "                 input_shape=input_shape, \n",
        "                 activation='relu',\n",
        "                 data_format='channels_first'))\n",
        "model.add(MaxPooling1D(pool_size=4))\n",
        "model.add(Conv1D(16, \n",
        "                 kernel_size=16, \n",
        "                 activation='relu',\n",
        "                 data_format='channels_first'))\n",
        "model.add(MaxPooling1D(pool_size=4))\n",
        "model.add(Flatten())\n",
        "model.add(Dense(32, activation='relu'))\n",
        "model.add(Dense(2, activation='softmax'))\n",
        "print(model.summary())"
      ],
      "execution_count": 0,
      "outputs": [
        {
          "output_type": "stream",
          "text": [
            "WARNING:tensorflow:From /usr/local/lib/python3.6/dist-packages/tensorflow_core/python/ops/resource_variable_ops.py:1630: calling BaseResourceVariable.__init__ (from tensorflow.python.ops.resource_variable_ops) with constraint is deprecated and will be removed in a future version.\n",
            "Instructions for updating:\n",
            "If using Keras pass *_constraint arguments to layers.\n",
            "Model: \"sequential\"\n",
            "_________________________________________________________________\n",
            "Layer (type)                 Output Shape              Param #   \n",
            "=================================================================\n",
            "conv1d (Conv1D)              (None, 16, 1009)          272       \n",
            "_________________________________________________________________\n",
            "max_pooling1d (MaxPooling1D) (None, 4, 1009)           0         \n",
            "_________________________________________________________________\n",
            "conv1d_1 (Conv1D)            (None, 16, 994)           1040      \n",
            "_________________________________________________________________\n",
            "max_pooling1d_1 (MaxPooling1 (None, 4, 994)            0         \n",
            "_________________________________________________________________\n",
            "flatten (Flatten)            (None, 3976)              0         \n",
            "_________________________________________________________________\n",
            "dense (Dense)                (None, 32)                127264    \n",
            "_________________________________________________________________\n",
            "dense_1 (Dense)              (None, 2)                 66        \n",
            "=================================================================\n",
            "Total params: 128,642\n",
            "Trainable params: 128,642\n",
            "Non-trainable params: 0\n",
            "_________________________________________________________________\n",
            "None\n"
          ],
          "name": "stdout"
        }
      ]
    },
    {
      "cell_type": "markdown",
      "metadata": {
        "id": "wAFnrCsoHb8c",
        "colab_type": "text"
      },
      "source": [
        "### Compiling\n",
        "\n",
        "In Keras the model must be compiled before training. It's at this stage that we specify the loss function to use and what optimiser to use.\n",
        "\n",
        "The **optimiser** is the algorithm that is used to explore the parameter space of the network weights. In this example we're going to use `Adam` with a learning rate of 0.001 and the other parameters left as their default values. There a various different optimisers to choose from but Adam has proven to be realiable for a wide variety of problems and is a good place to start.\n",
        "\n",
        "We then need to define the function that will quantify the network's performance, the **loss function**. In this case we're using **Categorical Crossentropy**. This combined with the **Softmax layer** means the network will ouput a vector of probabilities for each samples where each probability corresponds to a particular class.\n",
        "\n",
        "For this binary (noise/signal) case it can written as:\n",
        "\n",
        "$$f(\\theta) = - \\sum_{i \\in S} log(\\theta_{i}^{S}) - \\sum_{i \\in N} log(\\theta_{i}^{N})$$\n",
        "\n",
        "where $\\theta_{i}^{S/N}$ is the predicted probability of class signal-noise (S) or noise-only (N)\n",
        "\n",
        "We can also add **metrics** which are not used during training but give us anthoer indication of the networks performance. Since this is a classification problem we'll use accurary.\n"
      ]
    },
    {
      "cell_type": "code",
      "metadata": {
        "id": "v4woNpDMHb8d",
        "colab_type": "code",
        "colab": {}
      },
      "source": [
        "model.compile(loss='categorical_crossentropy',\n",
        "              optimizer=Adam(lr=0.001), metrics=['accuracy'])"
      ],
      "execution_count": 0,
      "outputs": []
    },
    {
      "cell_type": "markdown",
      "metadata": {
        "id": "O_DSujdIHb8h",
        "colab_type": "text"
      },
      "source": [
        "## Training\n",
        "\n",
        "We're now ready to train the network. The model class has a method called `fit` that trains the model given some inputs. This is simplest way to train a model but has some limitations, for example when dealing with very large datasets that can't be loaded into memory.\n",
        "\n",
        "A portion of the data (the validation set) is used to keep track of the networks performance during training. Importantly it is never used to update the networks parameters."
      ]
    },
    {
      "cell_type": "code",
      "metadata": {
        "scrolled": false,
        "id": "hHfVTx8cHb8j",
        "colab_type": "code",
        "outputId": "b5f5e64d-afaa-47e4-f1bd-af6e927c887c",
        "colab": {
          "base_uri": "https://localhost:8080/",
          "height": 382
        }
      },
      "source": [
        "history = model.fit(x_train, y_train, validation_split=0.2, batch_size=batch_size, epochs=n_epochs)"
      ],
      "execution_count": 0,
      "outputs": [
        {
          "output_type": "stream",
          "text": [
            "Train on 7200 samples, validate on 1800 samples\n",
            "Epoch 1/10\n",
            "7200/7200 [==============================] - 2s 295us/sample - loss: 0.7002 - acc: 0.4992 - val_loss: 0.6931 - val_acc: 0.4989\n",
            "Epoch 2/10\n",
            "7200/7200 [==============================] - 1s 95us/sample - loss: 0.6932 - acc: 0.4975 - val_loss: 0.6932 - val_acc: 0.4967\n",
            "Epoch 3/10\n",
            "7200/7200 [==============================] - 1s 93us/sample - loss: 0.6904 - acc: 0.5221 - val_loss: 0.6489 - val_acc: 0.5583\n",
            "Epoch 4/10\n",
            "7200/7200 [==============================] - 1s 93us/sample - loss: 0.5124 - acc: 0.7851 - val_loss: 0.4024 - val_acc: 0.8622\n",
            "Epoch 5/10\n",
            "7200/7200 [==============================] - 1s 93us/sample - loss: 0.4040 - acc: 0.8647 - val_loss: 0.3586 - val_acc: 0.8989\n",
            "Epoch 6/10\n",
            "7200/7200 [==============================] - 1s 95us/sample - loss: 0.3315 - acc: 0.8983 - val_loss: 0.2908 - val_acc: 0.9111\n",
            "Epoch 7/10\n",
            "7200/7200 [==============================] - 1s 92us/sample - loss: 0.2835 - acc: 0.9168 - val_loss: 0.2606 - val_acc: 0.9211\n",
            "Epoch 8/10\n",
            "7200/7200 [==============================] - 1s 94us/sample - loss: 0.2623 - acc: 0.9146 - val_loss: 0.2426 - val_acc: 0.9239\n",
            "Epoch 9/10\n",
            "7200/7200 [==============================] - 1s 94us/sample - loss: 0.2405 - acc: 0.9274 - val_loss: 0.2608 - val_acc: 0.9039\n",
            "Epoch 10/10\n",
            "7200/7200 [==============================] - 1s 95us/sample - loss: 0.2367 - acc: 0.9207 - val_loss: 0.2296 - val_acc: 0.9272\n"
          ],
          "name": "stdout"
        }
      ]
    },
    {
      "cell_type": "markdown",
      "metadata": {
        "id": "X3wxnLuOHb8n",
        "colab_type": "text"
      },
      "source": [
        "## Evaluation\n",
        "\n",
        "Now that the network in trained we can analyse the output to understand how well it has learn to predict the classes."
      ]
    },
    {
      "cell_type": "markdown",
      "metadata": {
        "id": "uFmScKngR1lC",
        "colab_type": "text"
      },
      "source": [
        "### Loss function\n",
        "\n",
        "We can plot the loss function to see how network learned over the epochs, we can also include the validation set which was never used to train the network.\n",
        "\n",
        "We can use the `history` object returned by `fit` to do this.\n"
      ]
    },
    {
      "cell_type": "code",
      "metadata": {
        "id": "h-lOGqROHb8o",
        "colab_type": "code",
        "outputId": "0783e5fa-8d0a-467c-cebc-f3090b1f5ae2",
        "colab": {
          "base_uri": "https://localhost:8080/",
          "height": 611
        }
      },
      "source": [
        "# set up the figure\n",
        "fig, axs = plt.subplots(2, 1, figsize=(8, 10), sharex=True)\n",
        "axs = axs.ravel()     # flattens the array of axes so it's easier to index\n",
        "epochs = np.arange(1, n_epochs+1)\n",
        "# plot the loss\n",
        "axs[0].plot(epochs, history.history['loss'], label='Loss')\n",
        "axs[0].plot(epochs, history.history['val_loss'], label='Val. loss')\n",
        "# plot accuracy\n",
        "axs[1].plot(epochs, history.history['acc'], label='Accuracy')\n",
        "axs[1].plot(epochs, history.history['val_acc'], label='Val. accuracy')\n",
        "# labels\n",
        "axs[1].set_xlabel(\"Epochs\")\n",
        "axs[0].set_ylabel(\"Loss\")\n",
        "axs[1].set_ylabel(\"Accuracy\")\n",
        "axs[0].legend()\n",
        "axs[1].legend()\n",
        "plt.show()"
      ],
      "execution_count": 0,
      "outputs": [
        {
          "output_type": "display_data",
          "data": {
            "image/png": "[encoded data removed]",
            "text/plain": [
              "<Figure size 576x720 with 2 Axes>"
            ]
          },
          "metadata": {
            "tags": []
          }
        }
      ]
    },
    {
      "cell_type": "markdown",
      "metadata": {
        "id": "kPnKmx0zSwB6",
        "colab_type": "text"
      },
      "source": [
        "### Predictions\n",
        "\n",
        "We can easily get predictions for the testing set or any other data we might have using the trained model. We will use these to quantify the networks performance."
      ]
    },
    {
      "cell_type": "code",
      "metadata": {
        "id": "nWlFcKqVS6PG",
        "colab_type": "code",
        "colab": {}
      },
      "source": [
        "y_pred = model.predict(x_test)"
      ],
      "execution_count": 0,
      "outputs": []
    },
    {
      "cell_type": "markdown",
      "metadata": {
        "id": "29i4M6cYTC-C",
        "colab_type": "text"
      },
      "source": [
        "### Confusion matrix\n",
        "\n",
        "A confusion matrix allows us to visualise what classes the network is predicting correctly or incorrectly.\n",
        "\n",
        "In this case we may want to minimise the number of false positives (noise classified as signal) rather than maximise the number of true positives.\n",
        "\n",
        "Scikit-learn includes lots of useful functions to compute metrics like confusion matrices and ROC curves (which we will see later on)"
      ]
    },
    {
      "cell_type": "code",
      "metadata": {
        "id": "Hn5i3kT4T69O",
        "colab_type": "code",
        "colab": {}
      },
      "source": [
        "from sklearn import metrics"
      ],
      "execution_count": 0,
      "outputs": []
    },
    {
      "cell_type": "markdown",
      "metadata": {
        "id": "rgpFNQXPT9jO",
        "colab_type": "text"
      },
      "source": [
        "In order to compute the confusion matrix we need the predicted classes rather than their probabilites. We get these by simply taking the class with the maximum probability for each time series."
      ]
    },
    {
      "cell_type": "code",
      "metadata": {
        "id": "B-mzEpkdT3qX",
        "colab_type": "code",
        "colab": {}
      },
      "source": [
        "pred_class = np.argmax(y_pred, axis=1)\n",
        "true_class = np.argmax(y_test, axis=1)"
      ],
      "execution_count": 0,
      "outputs": []
    },
    {
      "cell_type": "markdown",
      "metadata": {
        "id": "2zWg4jGUUVBd",
        "colab_type": "text"
      },
      "source": [
        "We can now compute the confusion matrix"
      ]
    },
    {
      "cell_type": "code",
      "metadata": {
        "id": "XnZ9Er-YUTpV",
        "colab_type": "code",
        "colab": {}
      },
      "source": [
        "cm = metrics.confusion_matrix(true_class, pred_class)"
      ],
      "execution_count": 0,
      "outputs": []
    },
    {
      "cell_type": "markdown",
      "metadata": {
        "id": "HAnkHhgbUdx-",
        "colab_type": "text"
      },
      "source": [
        "We're going to use `Seaborn` to plot the confusion matrix"
      ]
    },
    {
      "cell_type": "code",
      "metadata": {
        "id": "o2GvEa6wUrfA",
        "colab_type": "code",
        "outputId": "cbfa9f6c-80d6-4a7e-8eab-b5c055c409ff",
        "colab": {
          "base_uri": "https://localhost:8080/",
          "height": 339
        }
      },
      "source": [
        "fig = plt.figure(figsize=(8, 5))\n",
        "sns.heatmap(cm, annot=True, square=True, fmt='g', \n",
        "            xticklabels=['Noise', 'Signal'], yticklabels=['Noise', 'Signal'])\n",
        "plt.xlabel(\"Predicted label\")\n",
        "plt.ylabel(\"True label\")\n",
        "plt.show()"
      ],
      "execution_count": 0,
      "outputs": [
        {
          "output_type": "display_data",
          "data": {
            "image/png": "[encoded data removed]",
            "text/plain": [
              "<Figure size 576x360 with 2 Axes>"
            ]
          },
          "metadata": {
            "tags": []
          }
        }
      ]
    },
    {
      "cell_type": "markdown",
      "metadata": {
        "id": "MDwkKVmBHb8t",
        "colab_type": "text"
      },
      "source": [
        "## ROC curves\n",
        "\n",
        "Reciever operator characteristic curves are another way of quatifying the network's performance. It's a plot of the true positive rate (probability of detection) against the false positive rate (probabilty of false alarm).\n",
        "\n",
        "We use Scikit learn again to compute the ROC curve, but this time we use the probabilites instead of the classes. Importantly we use the probability of the a time series being a signal (the second column in the matrix representation)."
      ]
    },
    {
      "cell_type": "code",
      "metadata": {
        "id": "Z4xHEnT1Hb82",
        "colab_type": "code",
        "colab": {}
      },
      "source": [
        "# [:, 1] for second column\n",
        "fa, ta, _ = metrics.roc_curve(y_test[:,1], y_pred[:,1])"
      ],
      "execution_count": 0,
      "outputs": []
    },
    {
      "cell_type": "code",
      "metadata": {
        "scrolled": false,
        "id": "NZ91kiBDHb86",
        "colab_type": "code",
        "outputId": "007568c3-57a4-49c3-c8d1-f0a95352a526",
        "colab": {
          "base_uri": "https://localhost:8080/",
          "height": 518
        }
      },
      "source": [
        "fig = plt.figure(figsize=(8,8))\n",
        "plt.plot(fa, ta)\n",
        "plt.xlabel('False alarm probability')\n",
        "plt.ylabel('True alarm probability')\n",
        "plt.title('ROC curve ')\n",
        "plt.show()"
      ],
      "execution_count": 0,
      "outputs": [
        {
          "output_type": "display_data",
          "data": {
            "image/png": "[encoded data removed]",
            "text/plain": [
              "<Figure size 576x576 with 1 Axes>"
            ]
          },
          "metadata": {
            "tags": []
          }
        }
      ]
    }
  ]
}